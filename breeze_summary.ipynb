{
 "cells": [
  {
   "cell_type": "markdown",
   "metadata": {},
   "source": [
    "# 實驗：評估壓成3k以下的事實摘要和情節摘要。"
   ]
  },
  {
   "cell_type": "code",
   "execution_count": 1,
   "metadata": {},
   "outputs": [],
   "source": [
    "import json\n",
    "import time\n",
    "import requests\n",
    "import openai\n",
    "import os\n",
    "from dotenv import load_dotenv\n",
    "from rouge_chinese import Rouge\n",
    "\n",
    "load_dotenv(\".env\")\n",
    "openai.api_key = os.getenv('openai_api_key')\n",
    "url = os.getenv('breeze_url')\n",
    "rouge = Rouge()"
   ]
  },
  {
   "cell_type": "code",
   "execution_count": 2,
   "metadata": {},
   "outputs": [],
   "source": [
    "def get_breeze(input_content):\n",
    "    system = 'You are a helpful AI assistant built by MediaTek Research. The user you are helping speaks Traditional Chinese and comes from Taiwan.'\n",
    "\n",
    "    payload = json.dumps({\n",
    "        \"inputs\": f\"<s> {system} [INST] {input_content} [/INST]\",\n",
    "        \"parameters\": {\n",
    "            \"do_sample\": True,\n",
    "            \"temperature\": 0.01,\n",
    "            \"top_p\": 0.95,\n",
    "            'repetition_penalty': 1, # 不要一直生重複的，大約設1~1.2之間輸出是剛好的\n",
    "            'max_new_tokens':1000, # 要設一下，不然會講到一半就停掉\n",
    "        }\n",
    "        })\n",
    "    headers = {\n",
    "    'Content-Type': 'application/json',\n",
    "    'accept': 'application/json'\n",
    "    }\n",
    "    try:\n",
    "        response = requests.request(\"POST\", url, headers=headers, data=payload)\n",
    "        j_result = json.loads(response.text)\n",
    "        if \"generated_text\" in j_result.keys():\n",
    "            return j_result['generated_text']\n",
    "        else:\n",
    "            return j_result\n",
    "    except Exception as e:\n",
    "        print(e)"
   ]
  },
  {
   "cell_type": "code",
   "execution_count": 3,
   "metadata": {},
   "outputs": [],
   "source": [
    "def generate_scenario(judgement):\n",
    "    # 有範例的情節摘要\n",
    "    example = '以下是一個情節摘要的範例，輸入是判決書內容，輸出是情節摘要。範例如下：輸入:孫桂蘭與孟奇於民國83年7月10日結婚,孫桂蘭係孟奇之子女即孟慶明、孟慶虹、孟慶經、孟慶緯、孟蓉之繼母。孟奇於96年1月22日死亡,孫桂蘭明知孟奇死亡後,其名下財產均為遺產,於遺產分割前屬孫桂蘭、孟慶明、孟慶虹、孟慶經、孟慶緯、孟蓉全體繼承人公同共有,未經全體繼承人同意,任一繼承人不得擅自處分,竟意圖為自己不法所有,基於詐欺取財及行使偽造私文書之犯意,於附表各編號所示之時間,至附表各編號所示金融機構,冒用孟奇之名義,在空白取款憑證填寫如附表各編號所示之日期、帳號及金額,並於「取款印鑑」欄,使用孟奇之印章盜蓋印文1枚,表示係孟奇欲自附表各編號所示金融機構帳戶內提領附表各編號所示提款金額,而偽造孟奇名義之取款憑證私文書後,再連同上開帳戶存摺持之向不知情之附表各編號所示金融機構承辦人員辦理取款而行使之,致該金融機構承辦人員陷於錯誤,誤認孫桂蘭係經孟奇本人授權而為上開手續,如數交付如附表各編號所示金額,均足以生損害於孟慶明、孟慶虹、孟慶經、孟慶緯(已歿)、孟蓉之權益及日盛國際商業銀行股份有限公司《下稱日盛商業銀行》、合作金庫商業銀行股份有限公司竹塹分行《下稱合作金庫商業銀行竹塹分行》、中華郵政股份有限公司清華大學郵局《下稱清華大學郵局》、永豐商業銀行股份有限公司《下稱永豐商業銀行》等金融機構對於孟奇帳戶資料、存款管理之正確性。 輸出:在這個案件中,涉及到一段婚姻關係,並有繼承人之間的財產分割。一名已故的個人的遺產成為了糾紛的焦點。在其去世後,其配偶及子女成為了繼承人。然而,配偶明知其去世,卻企圖以詐欺和偽造私文書的方式來獲取他們的共同財產。她冒用已故人的名義,填寫了取款憑證並偽造了他的印章,使金融機構誤以為是合法的取款要求。最終,金融機構執行了這些虛偽的指示,導致繼承人之間的權益受損,也對涉及的金融機構造成了損害。这些行為涉及偽造私文書、詐欺取財,並對繼承人和金融機構產生了不良影響。請學習以上範例，將以下判決書內容做情節摘要，'\n",
    "    scenario_with_example_prompt = f'我會給你一篇法律判決書內容，幫我做情節摘要，可能包含事實情節描述、判決結果及理由。{example}判決書內容：輸入：{judgement}。輸出：'\n",
    "    \n",
    "    start = time.time()\n",
    "    example_scenario = get_breeze(scenario_with_example_prompt)\n",
    "    end = time.time()\n",
    "    print(f'Generate Scenario W Example Time: {end - start:.5f}')\n",
    "    print(f'Scenario w example Length: {len(example_scenario)}')\n",
    "    example_scenario = example_scenario.replace('\\n', '').replace('\\t', '')\n",
    "\n",
    "    # 沒範例的情節摘要\n",
    "    scenario_without_example_prompt = f'我會給你一篇法律判決書內容，幫我做情節摘要，可能包含事實情節描述、判決結果及理由。判決書內容如下：{judgement}。'\n",
    "    \n",
    "    start = time.time()\n",
    "    scenario = get_breeze(scenario_without_example_prompt)\n",
    "    end = time.time()\n",
    "    print(f'Generate Scenario W/O Example Time: {end - start:.5f}')\n",
    "    print(f'Scenario w/o example Length: {len(scenario)}')\n",
    "    scenario = scenario.replace('\\n', '').replace('\\t', '')\n",
    "\n",
    "    return example_scenario, scenario"
   ]
  },
  {
   "cell_type": "code",
   "execution_count": 4,
   "metadata": {},
   "outputs": [],
   "source": [
    "def split_passage(judgement):\n",
    "    summaries = []\n",
    "\n",
    "    judgement_len = len(judgement)\n",
    "    window_size = 3000\n",
    "    overlap_size = 100\n",
    "    start = 0\n",
    "    end = min(window_size, judgement_len)\n",
    "\n",
    "    while start < judgement_len:\n",
    "        passage = judgement[start:end]\n",
    "        fact_summary_prompt = f'我會給你一篇法律判決書內容，幫我做事實摘要，可能包含事實情節描述。判決書內容如下：{passage}。'\n",
    "        \n",
    "        start = time.time()\n",
    "        summary = get_breeze(fact_summary_prompt)\n",
    "        end = time.time()\n",
    "        print(f'Split Summary Time: {end - start:.5f}')\n",
    "\n",
    "        summary = summary.replace('\\n', '').replace('\\t', '')\n",
    "        summaries.append(summary)\n",
    "        \n",
    "        start += window_size - overlap_size\n",
    "        end = min(start + window_size, judgement_len)\n",
    "\n",
    "    summary_str = ''.join(summaries)\n",
    "\n",
    "    return summary_str"
   ]
  },
  {
   "cell_type": "code",
   "execution_count": 5,
   "metadata": {},
   "outputs": [],
   "source": [
    "def process_judgement(judgement):\n",
    "    print(f'Origin Length: {len(judgement)}')\n",
    "    if len(judgement) > 3000:\n",
    "        print(f'Judgement processing...')\n",
    "        fact_summary = split_passage(judgement)\n",
    "        print(f'First summary length: {len(fact_summary)}')\n",
    "        print(f'First summary complete!')\n",
    "        print(f'Scenario generating...')\n",
    "        scenario_with_example, scenario_without_example = generate_scenario(fact_summary)\n",
    "        print(f'Scenario complete!')\n",
    "        print(f'='*100)\n",
    "        return {\n",
    "            \"judgement\": judgement,\n",
    "            \"fact_summary\": fact_summary,\n",
    "            \"with_example\": scenario_with_example,\n",
    "            \"without_example\": scenario_without_example\n",
    "        }\n",
    "    else:\n",
    "        print(f'Scenario generating...')\n",
    "        scenario_with_example, scenario_without_example = generate_scenario(judgement)\n",
    "        print(f'Scenario complete!')\n",
    "        print(f'='*100)\n",
    "        return {\n",
    "            \"judgement\": judgement,\n",
    "            \"fact_summary\": \"None\",\n",
    "            \"with_example\": scenario_with_example,\n",
    "            \"without_example\": scenario_without_example\n",
    "        }"
   ]
  },
  {
   "cell_type": "code",
   "execution_count": 6,
   "metadata": {},
   "outputs": [],
   "source": [
    "def get_gpt(query, max_test_time = 3):\n",
    "    system_prompt = \"You are ChatGPT, a large language model trained by OpenAI.\"\n",
    "    user_prompt = f\"我會給你三個範例 Example 1, Example 2 and Example 3 (輸入:Text,輸出:Context Summary) Example1 : Text輸入:孫桂蘭與孟奇於民國83年7月10日結婚,孫桂蘭係孟奇之子女即孟慶明、孟慶虹、孟慶經、孟慶緯、孟蓉之繼母。孟奇於96年1月22日死亡,孫桂蘭明知孟奇死亡後,其名下財產均為遺產,於遺產分割前屬孫桂蘭、孟慶明、孟慶虹、孟慶經、孟慶緯、孟蓉全體繼承人公同共有,未經全體繼承人同意,任一繼承人不得擅自處分,竟意圖為自己不法所有,基於詐欺取財及行使偽造私文書之犯意,於附表各編號所示之時間,至附表各編號所示金融機構,冒用孟奇之名義,在空白取款憑證填寫如附表各編號所示之日期、帳號及金額,並於「取款印鑑」欄,使用孟奇之印章盜蓋印文1枚,表示係孟奇欲自附表各編號所示金融機構帳戶內提領附表各編號所示提款金額,而偽造孟奇名義之取款憑證私文書後,再連同上開帳戶存摺持之向不知情之附表各編號所示金融機構承辦人員辦理取款而行使之,致該金融機構承辦人員陷於錯誤,誤認孫桂蘭係經孟奇本人授權而為上開手續,如數交付如附表各編號所示金額,均足以生損害於孟慶明、孟慶虹、孟慶經、孟慶緯(已歿)、孟蓉之權益及日盛國際商業銀行股份有限公司《下稱日盛商業銀行》、合作金庫商業銀行股份有限公司竹塹分行《下稱合作金庫商業銀行竹塹分行》、中華郵政股份有限公司清華大學郵局《下稱清華大學郵局》、永豐商業銀行股份有限公司《下稱永豐商業銀行》等金融機構對於孟奇帳戶資料、存款管理之正確性。 Context Summary輸出:在這個案件中,涉及到一段婚姻關係,並有繼承人之間的財產分割。一名已故的個人的遺產成為了糾紛的焦點。在其去世後,其配偶及子女成為了繼承人。然而,配偶明知其去世,卻企圖以詐欺和偽造私文書的方式來獲取他們的共同財產。她冒用已故人的名義,填寫了取款憑證並偽造了他的印章,使金融機構誤以為是合法的取款要求。最終,金融機構執行了這些虛偽的指示,導致繼承人之間的權益受損,也對涉及的金融機構造成了損害。这些行為涉及偽造私文書、詐欺取財,並對繼承人和金融機構產生了不良影響。 Example 2 : Text輸入:丁○○○為陳全清之妻,己○○為陳全清之弟即甲○○之兒媳,乙○○、陳全清、甲○○、廖陳專、丙○○、陳素美、陳月娥(下稱乙○○等7人)均為被繼承人陳秋火之子女,緣陳秋火於民國107年1月27日死亡,乙○○等7人均為陳秋火之法定繼承人。丁○○○、己○○明知陳秋火業已死亡,無法再以其名義為任何法律行為,且陳秋火所遺留之存款由全體繼承人繼承,應以全體繼承人名義具領款項,或全體繼承人同意委任代理人,依據繼承之程序,始得提領款項,丁○○○、己○○竟未得乙○○之同意,共同基於行使偽造私文書之犯意聯絡,將其等保管之陳秋火之存摺、印章取出,於107年1月29日9時55分許,共同前往位於苗栗縣○○鎮○○路0號之玉山商業銀行股份有限公司(下稱玉山銀行)後龍分行,冒用陳秋火之名義,申辦:將陳秋火之玉山銀行後龍分行定期存款(帳號依序分別為000000000號、000000000號、000000000號,金額均為新臺幣(下同)10萬元,共計30萬元)解約,存入陳秋火之同銀行帳號為0000000000000號帳戶(下稱甲帳戶)後,甲帳戶餘額為102萬2325元,再自甲帳戶提領現金25萬元,並將餘額77萬2325元匯至不知情之陳永聰(為甲○○之子、己○○之夫,另經臺灣苗栗地方檢察署檢察官為不起訴處分)之同銀行帳號0000000000000號帳戶(下稱乙帳戶)等交易,復持上開存摺、印章交由不知情之玉山銀行後龍分行承辦人員盜蓋於內部傳票、取款憑條上(偽造之文件名稱、交易摘要及金額、欄位、盜蓋印章之印文及數量均詳如附表所載),以利用該承辦人員偽造屬私文書之上開內部傳票、取款憑條後,據以交由該承辦人員辦理而行使之,致使承辦之玉山銀行人員誤認陳秋火尚在世並授權,而將上開陳秋火之定期存款解約及存入甲帳戶內之存款102萬2325萬元憑摺支取,除其中25萬元提領現金外,餘77萬2325元匯入乙帳戶,足以生損害於陳秋火之繼承人及玉山銀行後龍分行對於存款帳戶管理之正確性。Context Summary輸出:這宗案件涉及家族關係與遺產問題。已故個人的遺產引發了爭議。他的配偶與子女是合法繼承人,但配偶卻企圖透過詐欺手段來侵占共同財產。她冒用已故人的身份,偽造文件並盗用印章,讓金融機構誤以為是合法的交易。最終,金融機構執行了這些虛偽指示,導致繼承人的權益受損,也給金融機構造成損失。這些行為牽涉到偽造文件和詐騙,對繼承人和金融機構都帶來不良影響。Example 3: Text輸入:吳文錦係吳清海(民國108年2月2日死亡)之長子,吳芸安則係吳清海次子吳文樑(於103年3月22日死亡)之女,為吳文樑之代位繼承人,吳淑妮、吳金桂、吳淑惠、吳月嬌亦為吳清海之子女,惟吳文錦於吳清海過世後,為辦理吳清海之後事相關事宜時,明知不得再以吳清海之名義提領存款,須經全體繼承人同意或授權,始得提領存款,竟未經全體繼承人之同意或授權,基於行使偽造私文書之犯意,接續於108年2月11日、108年2月20日,持其所保管吳清海之雲林縣○○鄉○○0○號:000-0000000000000號,下稱四湖鄉農會帳戶)之存摺、印鑑,前往雲林縣○○鄉○○村○○○路00號之雲林縣四湖鄉農會,冒用吳清海之名義,在該農會之取款憑條存戶簽章欄上,填寫領取新臺幣(下同)337,600元、7,290元,並偽簽「吳清海」之署押1枚,盜蓋「吳清海」印文2枚(詳如附表所示),而偽造吳清海同意提領337,600元、7,290元之私文書,並持該偽造之取款憑條交予上開農會之不知情承辦人員而行使之,使吳文錦自前開帳戶提領共344,890元,足生損害於吳清海全體繼承人及四湖鄉農會對客戶存款管理之正確性。Context Summary輸出:這宗案件涉及家族關係和遺產問題。已故個人的子女是合法繼承人,但其中一人明知不得未經全體繼承人同意或授權就提領存款。他使用偽造文件,包括存摺和印鑑,前往當地農會冒充已故父親的身份,提領款項,造成損害。这涉及偽造文件和可能的詐騙行為,對繼承人和農會的存款管理產生不良影響。 請你模仿Example 1 , Example 2, Example 3,來生成以下一個輸入(Text1)之context摘要,禁止出現人名。Text1 輸入:{query} Text1輸出:(請用繁體中文輸出)\"\n",
    "    \n",
    "    for i in range(max_test_time):\n",
    "        try:\n",
    "            response = openai.chat.completions.create(\n",
    "                model=\"gpt-4-turbo-preview\",\n",
    "                messages=[{\"role\": \"system\", \"content\": system_prompt},\n",
    "                          {\"role\": \"user\", \"content\": user_prompt}],\n",
    "                max_tokens=4096,\n",
    "                temperature=1,\n",
    "            )\n",
    "            response_text = response.choices[0].message.content\n",
    "            break\n",
    "        except Exception as e:\n",
    "            print(f\"Error {i+1}: {str(e)}\")\n",
    "            response_text = \"ERROR\"\n",
    "    return response_text"
   ]
  },
  {
   "cell_type": "markdown",
   "metadata": {},
   "source": [
    "## 實驗一：看壓縮效果\n",
    "* GPT摘要：origin fact -> (GPT) -> scenario\n",
    "* Breeze摘要：origin fact -> (Breeze) -> scenario\n",
    "* Breeze壓縮+摘要：origin fact -> (Breeze) -> summary fact -> (Breeze) -> scenario"
   ]
  },
  {
   "cell_type": "code",
   "execution_count": null,
   "metadata": {},
   "outputs": [],
   "source": [
    "with open('dataset/train_data.json', 'r', encoding='utf-8') as f:\n",
    "    train_data = json.load(f)"
   ]
  },
  {
   "cell_type": "markdown",
   "metadata": {},
   "source": [
    "### (答)GPT摘要：origin fact -> (GPT) -> scenario"
   ]
  },
  {
   "cell_type": "code",
   "execution_count": null,
   "metadata": {},
   "outputs": [],
   "source": [
    "processed_data = []\n",
    "\n",
    "for data in train_data[:10]:\n",
    "    judgement = data['fact']\n",
    "    print(f'Scenario generating...')\n",
    "    summary = get_gpt(judgement)\n",
    "    print(f'Summayr: {summary}')\n",
    "    print(f'Scenario complete!')\n",
    "    print(f'='*100)\n",
    "    \n",
    "    temp = {\n",
    "        \"judgement\": judgement,\n",
    "        \"summary\": summary\n",
    "    }\n",
    "\n",
    "    processed_data.append(temp)\n",
    "\n",
    "with open(\"experiment1/gpt_scenario.json\", \"w\", encoding=\"utf-8\") as f:\n",
    "    json.dump(processed_data, f, ensure_ascii=False, indent=4)"
   ]
  },
  {
   "cell_type": "markdown",
   "metadata": {},
   "source": [
    "### Breeze摘要：origin fact -> (Breeze) -> scenario"
   ]
  },
  {
   "cell_type": "code",
   "execution_count": 9,
   "metadata": {},
   "outputs": [
    {
     "name": "stdout",
     "output_type": "stream",
     "text": [
      "Scenario generating...\n",
      "Generate Scenario W Example Time: 52.93324\n",
      "Scenario w example Length: 1358\n",
      "Generate Scenario W/O Example Time: 22.91378\n",
      "Scenario w/o example Length: 602\n",
      "Scenario complete!\n",
      "====================================================================================================\n",
      "Scenario generating...\n",
      "Generate Scenario W Example Time: 7.34081\n",
      "Scenario w example Length: 222\n",
      "Generate Scenario W/O Example Time: 16.76494\n",
      "Scenario w/o example Length: 545\n",
      "Scenario complete!\n",
      "====================================================================================================\n",
      "Scenario generating...\n",
      "Generate Scenario W Example Time: 5.86711\n",
      "Scenario w example Length: 187\n",
      "Generate Scenario W/O Example Time: 9.43987\n",
      "Scenario w/o example Length: 371\n",
      "Scenario complete!\n",
      "====================================================================================================\n",
      "Scenario generating...\n",
      "Generate Scenario W Example Time: 64.30944\n",
      "Scenario w example Length: 1318\n",
      "Generate Scenario W/O Example Time: 61.65051\n",
      "Scenario w/o example Length: 1418\n",
      "Scenario complete!\n",
      "====================================================================================================\n",
      "Scenario generating...\n",
      "Generate Scenario W Example Time: 61.63407\n",
      "Scenario w example Length: 1248\n",
      "Generate Scenario W/O Example Time: 59.32629\n",
      "Scenario w/o example Length: 1194\n",
      "Scenario complete!\n",
      "====================================================================================================\n",
      "Scenario generating...\n",
      "Generate Scenario W Example Time: 73.44960\n",
      "Scenario w example Length: 1001\n",
      "Generate Scenario W/O Example Time: 69.75514\n",
      "Scenario w/o example Length: 1500\n",
      "Scenario complete!\n",
      "====================================================================================================\n",
      "Scenario generating...\n",
      "Generate Scenario W Example Time: 2.24965\n",
      "Scenario w example Length: 61\n",
      "Generate Scenario W/O Example Time: 9.07259\n",
      "Scenario w/o example Length: 353\n",
      "Scenario complete!\n",
      "====================================================================================================\n",
      "Scenario generating...\n",
      "Generate Scenario W Example Time: 54.33555\n",
      "Scenario w example Length: 1237\n",
      "Generate Scenario W/O Example Time: 51.95294\n",
      "Scenario w/o example Length: 1332\n",
      "Scenario complete!\n",
      "====================================================================================================\n",
      "Scenario generating...\n",
      "Generate Scenario W Example Time: 37.94782\n",
      "Scenario w example Length: 755\n",
      "Generate Scenario W/O Example Time: 57.01611\n",
      "Scenario w/o example Length: 1226\n",
      "Scenario complete!\n",
      "====================================================================================================\n",
      "Scenario generating...\n",
      "Generate Scenario W Example Time: 73.15819\n",
      "Scenario w example Length: 1002\n",
      "Generate Scenario W/O Example Time: 70.35262\n",
      "Scenario w/o example Length: 1142\n",
      "Scenario complete!\n",
      "====================================================================================================\n"
     ]
    }
   ],
   "source": [
    "processed_data = []\n",
    "\n",
    "for data in train_data[:10]:\n",
    "    judgement = data['fact']\n",
    "    print(f'Scenario generating...')\n",
    "    scenario_with_example, scenario_without_example = generate_scenario(judgement)\n",
    "    scenario_with_example = scenario_with_example.replace('\\n', '').replace('\\t', '')\n",
    "    scenario_without_example = scenario_without_example.replace('\\n', '').replace('\\t', '')\n",
    "    print(f'Scenario complete!')\n",
    "    print(f'='*100)\n",
    "    \n",
    "    \n",
    "    temp = {\n",
    "        \"judgement\": judgement,\n",
    "        \"scenario_with_example\": scenario_with_example,\n",
    "        \"scenario_without_example\": scenario_without_example\n",
    "        }\n",
    "    \n",
    "    processed_data.append(temp)\n",
    "\n",
    "with open(\"experiment1/breeze_scenario.json\", \"w\", encoding=\"utf-8\") as f:\n",
    "    json.dump(processed_data, f, ensure_ascii=False, indent=4)"
   ]
  },
  {
   "cell_type": "markdown",
   "metadata": {},
   "source": [
    "### Breeze壓縮+摘要：origin fact -> (Breeze) -> summary fact -> (Breeze) -> scenario"
   ]
  },
  {
   "cell_type": "code",
   "execution_count": 13,
   "metadata": {},
   "outputs": [
    {
     "name": "stdout",
     "output_type": "stream",
     "text": [
      "Origin Length: 6546\n",
      "Judgement processing...\n",
      "Split Summary Time: 12.74788\n",
      "First summary length: 348\n",
      "First summary complete!\n",
      "Scenario generating...\n",
      "Generate Scenario W Example Time: 6.94026\n",
      "Scenario w example Length: 203\n",
      "Generate Scenario W/O Example Time: 9.73048\n",
      "Scenario w/o example Length: 285\n",
      "Scenario complete!\n",
      "====================================================================================================\n",
      "Origin Length: 3385\n",
      "Judgement processing...\n",
      "Split Summary Time: 23.60200\n",
      "First summary length: 602\n",
      "First summary complete!\n",
      "Scenario generating...\n",
      "Generate Scenario W Example Time: 16.06940\n",
      "Scenario w example Length: 512\n",
      "Generate Scenario W/O Example Time: 20.54658\n",
      "Scenario w/o example Length: 674\n",
      "Scenario complete!\n",
      "====================================================================================================\n",
      "Origin Length: 1331\n",
      "Scenario generating...\n",
      "Generate Scenario W Example Time: 7.09446\n",
      "Scenario w example Length: 187\n",
      "Generate Scenario W/O Example Time: 12.14091\n",
      "Scenario w/o example Length: 373\n",
      "Scenario w example Length: 187\n",
      "Scenario w/o example Length: 367\n",
      "Scenario complete!\n",
      "====================================================================================================\n",
      "Origin Length: 10172\n",
      "Judgement processing...\n",
      "Split Summary Time: 25.14320\n",
      "First summary length: 623\n",
      "First summary complete!\n",
      "Scenario generating...\n"
     ]
    },
    {
     "ename": "KeyboardInterrupt",
     "evalue": "",
     "output_type": "error",
     "traceback": [
      "\u001b[0;31m---------------------------------------------------------------------------\u001b[0m",
      "\u001b[0;31mKeyboardInterrupt\u001b[0m                         Traceback (most recent call last)",
      "Cell \u001b[0;32mIn[13], line 5\u001b[0m\n\u001b[1;32m      3\u001b[0m \u001b[38;5;28;01mfor\u001b[39;00m data \u001b[38;5;129;01min\u001b[39;00m train_data[:\u001b[38;5;241m10\u001b[39m]:\n\u001b[1;32m      4\u001b[0m     judgement \u001b[38;5;241m=\u001b[39m data[\u001b[38;5;124m'\u001b[39m\u001b[38;5;124mfact\u001b[39m\u001b[38;5;124m'\u001b[39m]\n\u001b[0;32m----> 5\u001b[0m     processed_data\u001b[38;5;241m.\u001b[39mappend(\u001b[43mprocess_judgement\u001b[49m\u001b[43m(\u001b[49m\u001b[43mjudgement\u001b[49m\u001b[43m)\u001b[49m)\n\u001b[1;32m      7\u001b[0m \u001b[38;5;28;01mwith\u001b[39;00m \u001b[38;5;28mopen\u001b[39m(\u001b[38;5;124m\"\u001b[39m\u001b[38;5;124msummary_output/processed_split_3k.json\u001b[39m\u001b[38;5;124m\"\u001b[39m, \u001b[38;5;124m\"\u001b[39m\u001b[38;5;124mw\u001b[39m\u001b[38;5;124m\"\u001b[39m, encoding\u001b[38;5;241m=\u001b[39m\u001b[38;5;124m\"\u001b[39m\u001b[38;5;124mutf-8\u001b[39m\u001b[38;5;124m\"\u001b[39m) \u001b[38;5;28;01mas\u001b[39;00m j:\n\u001b[1;32m      8\u001b[0m     json\u001b[38;5;241m.\u001b[39mdump(processed_data, j, ensure_ascii\u001b[38;5;241m=\u001b[39m\u001b[38;5;28;01mFalse\u001b[39;00m, indent\u001b[38;5;241m=\u001b[39m\u001b[38;5;241m4\u001b[39m)\n",
      "Cell \u001b[0;32mIn[10], line 9\u001b[0m, in \u001b[0;36mprocess_judgement\u001b[0;34m(judgement)\u001b[0m\n\u001b[1;32m      7\u001b[0m \u001b[38;5;28mprint\u001b[39m(\u001b[38;5;124mf\u001b[39m\u001b[38;5;124m'\u001b[39m\u001b[38;5;124mFirst summary complete!\u001b[39m\u001b[38;5;124m'\u001b[39m)\n\u001b[1;32m      8\u001b[0m \u001b[38;5;28mprint\u001b[39m(\u001b[38;5;124mf\u001b[39m\u001b[38;5;124m'\u001b[39m\u001b[38;5;124mScenario generating...\u001b[39m\u001b[38;5;124m'\u001b[39m)\n\u001b[0;32m----> 9\u001b[0m scenario_with_example, scenario_without_example \u001b[38;5;241m=\u001b[39m \u001b[43mgenerate_scenario\u001b[49m\u001b[43m(\u001b[49m\u001b[43mfact_summary\u001b[49m\u001b[43m)\u001b[49m\n\u001b[1;32m     10\u001b[0m \u001b[38;5;28mprint\u001b[39m(\u001b[38;5;124mf\u001b[39m\u001b[38;5;124m'\u001b[39m\u001b[38;5;124mScenario complete!\u001b[39m\u001b[38;5;124m'\u001b[39m)\n\u001b[1;32m     11\u001b[0m \u001b[38;5;28mprint\u001b[39m(\u001b[38;5;124mf\u001b[39m\u001b[38;5;124m'\u001b[39m\u001b[38;5;124m=\u001b[39m\u001b[38;5;124m'\u001b[39m\u001b[38;5;241m*\u001b[39m\u001b[38;5;241m100\u001b[39m)\n",
      "Cell \u001b[0;32mIn[8], line 7\u001b[0m, in \u001b[0;36mgenerate_scenario\u001b[0;34m(judgement)\u001b[0m\n\u001b[1;32m      4\u001b[0m scenario_with_example_prompt \u001b[38;5;241m=\u001b[39m \u001b[38;5;124mf\u001b[39m\u001b[38;5;124m'\u001b[39m\u001b[38;5;124m我會給你一篇法律判決書內容，幫我做情節摘要，可能包含事實情節描述、判決結果及理由。\u001b[39m\u001b[38;5;132;01m{\u001b[39;00mexample\u001b[38;5;132;01m}\u001b[39;00m\u001b[38;5;124m判決書內容：輸入：\u001b[39m\u001b[38;5;132;01m{\u001b[39;00mjudgement\u001b[38;5;132;01m}\u001b[39;00m\u001b[38;5;124m。輸出：\u001b[39m\u001b[38;5;124m'\u001b[39m\n\u001b[1;32m      6\u001b[0m start \u001b[38;5;241m=\u001b[39m time\u001b[38;5;241m.\u001b[39mtime()\n\u001b[0;32m----> 7\u001b[0m example_scenario \u001b[38;5;241m=\u001b[39m \u001b[43mget_breeze\u001b[49m\u001b[43m(\u001b[49m\u001b[43mscenario_with_example_prompt\u001b[49m\u001b[43m)\u001b[49m\n\u001b[1;32m      8\u001b[0m end \u001b[38;5;241m=\u001b[39m time\u001b[38;5;241m.\u001b[39mtime()\n\u001b[1;32m      9\u001b[0m \u001b[38;5;28mprint\u001b[39m(\u001b[38;5;124mf\u001b[39m\u001b[38;5;124m'\u001b[39m\u001b[38;5;124mGenerate Scenario W Example Time: \u001b[39m\u001b[38;5;132;01m{\u001b[39;00mend\u001b[38;5;250m \u001b[39m\u001b[38;5;241m-\u001b[39m\u001b[38;5;250m \u001b[39mstart\u001b[38;5;132;01m:\u001b[39;00m\u001b[38;5;124m.5f\u001b[39m\u001b[38;5;132;01m}\u001b[39;00m\u001b[38;5;124m'\u001b[39m)\n",
      "Cell \u001b[0;32mIn[12], line 26\u001b[0m, in \u001b[0;36mget_breeze\u001b[0;34m(input_content)\u001b[0m\n\u001b[1;32m     21\u001b[0m headers \u001b[38;5;241m=\u001b[39m {\n\u001b[1;32m     22\u001b[0m \u001b[38;5;124m'\u001b[39m\u001b[38;5;124mContent-Type\u001b[39m\u001b[38;5;124m'\u001b[39m: \u001b[38;5;124m'\u001b[39m\u001b[38;5;124mapplication/json\u001b[39m\u001b[38;5;124m'\u001b[39m,\n\u001b[1;32m     23\u001b[0m \u001b[38;5;124m'\u001b[39m\u001b[38;5;124maccept\u001b[39m\u001b[38;5;124m'\u001b[39m: \u001b[38;5;124m'\u001b[39m\u001b[38;5;124mapplication/json\u001b[39m\u001b[38;5;124m'\u001b[39m\n\u001b[1;32m     24\u001b[0m }\n\u001b[1;32m     25\u001b[0m \u001b[38;5;28;01mtry\u001b[39;00m:\n\u001b[0;32m---> 26\u001b[0m     response \u001b[38;5;241m=\u001b[39m \u001b[43mrequests\u001b[49m\u001b[38;5;241;43m.\u001b[39;49m\u001b[43mrequest\u001b[49m\u001b[43m(\u001b[49m\u001b[38;5;124;43m\"\u001b[39;49m\u001b[38;5;124;43mPOST\u001b[39;49m\u001b[38;5;124;43m\"\u001b[39;49m\u001b[43m,\u001b[49m\u001b[43m \u001b[49m\u001b[43murl\u001b[49m\u001b[43m,\u001b[49m\u001b[43m \u001b[49m\u001b[43mheaders\u001b[49m\u001b[38;5;241;43m=\u001b[39;49m\u001b[43mheaders\u001b[49m\u001b[43m,\u001b[49m\u001b[43m \u001b[49m\u001b[43mdata\u001b[49m\u001b[38;5;241;43m=\u001b[39;49m\u001b[43mpayload\u001b[49m\u001b[43m)\u001b[49m\n\u001b[1;32m     27\u001b[0m     j_result \u001b[38;5;241m=\u001b[39m json\u001b[38;5;241m.\u001b[39mloads(response\u001b[38;5;241m.\u001b[39mtext)\n\u001b[1;32m     28\u001b[0m     \u001b[38;5;28;01mif\u001b[39;00m \u001b[38;5;124m\"\u001b[39m\u001b[38;5;124mgenerated_text\u001b[39m\u001b[38;5;124m\"\u001b[39m \u001b[38;5;129;01min\u001b[39;00m j_result\u001b[38;5;241m.\u001b[39mkeys():\n",
      "File \u001b[0;32m/usr/local/lib/python3.10/site-packages/requests/api.py:59\u001b[0m, in \u001b[0;36mrequest\u001b[0;34m(method, url, **kwargs)\u001b[0m\n\u001b[1;32m     55\u001b[0m \u001b[38;5;66;03m# By using the 'with' statement we are sure the session is closed, thus we\u001b[39;00m\n\u001b[1;32m     56\u001b[0m \u001b[38;5;66;03m# avoid leaving sockets open which can trigger a ResourceWarning in some\u001b[39;00m\n\u001b[1;32m     57\u001b[0m \u001b[38;5;66;03m# cases, and look like a memory leak in others.\u001b[39;00m\n\u001b[1;32m     58\u001b[0m \u001b[38;5;28;01mwith\u001b[39;00m sessions\u001b[38;5;241m.\u001b[39mSession() \u001b[38;5;28;01mas\u001b[39;00m session:\n\u001b[0;32m---> 59\u001b[0m     \u001b[38;5;28;01mreturn\u001b[39;00m \u001b[43msession\u001b[49m\u001b[38;5;241;43m.\u001b[39;49m\u001b[43mrequest\u001b[49m\u001b[43m(\u001b[49m\u001b[43mmethod\u001b[49m\u001b[38;5;241;43m=\u001b[39;49m\u001b[43mmethod\u001b[49m\u001b[43m,\u001b[49m\u001b[43m \u001b[49m\u001b[43murl\u001b[49m\u001b[38;5;241;43m=\u001b[39;49m\u001b[43murl\u001b[49m\u001b[43m,\u001b[49m\u001b[43m \u001b[49m\u001b[38;5;241;43m*\u001b[39;49m\u001b[38;5;241;43m*\u001b[39;49m\u001b[43mkwargs\u001b[49m\u001b[43m)\u001b[49m\n",
      "File \u001b[0;32m/usr/local/lib/python3.10/site-packages/requests/sessions.py:589\u001b[0m, in \u001b[0;36mSession.request\u001b[0;34m(self, method, url, params, data, headers, cookies, files, auth, timeout, allow_redirects, proxies, hooks, stream, verify, cert, json)\u001b[0m\n\u001b[1;32m    584\u001b[0m send_kwargs \u001b[38;5;241m=\u001b[39m {\n\u001b[1;32m    585\u001b[0m     \u001b[38;5;124m\"\u001b[39m\u001b[38;5;124mtimeout\u001b[39m\u001b[38;5;124m\"\u001b[39m: timeout,\n\u001b[1;32m    586\u001b[0m     \u001b[38;5;124m\"\u001b[39m\u001b[38;5;124mallow_redirects\u001b[39m\u001b[38;5;124m\"\u001b[39m: allow_redirects,\n\u001b[1;32m    587\u001b[0m }\n\u001b[1;32m    588\u001b[0m send_kwargs\u001b[38;5;241m.\u001b[39mupdate(settings)\n\u001b[0;32m--> 589\u001b[0m resp \u001b[38;5;241m=\u001b[39m \u001b[38;5;28;43mself\u001b[39;49m\u001b[38;5;241;43m.\u001b[39;49m\u001b[43msend\u001b[49m\u001b[43m(\u001b[49m\u001b[43mprep\u001b[49m\u001b[43m,\u001b[49m\u001b[43m \u001b[49m\u001b[38;5;241;43m*\u001b[39;49m\u001b[38;5;241;43m*\u001b[39;49m\u001b[43msend_kwargs\u001b[49m\u001b[43m)\u001b[49m\n\u001b[1;32m    591\u001b[0m \u001b[38;5;28;01mreturn\u001b[39;00m resp\n",
      "File \u001b[0;32m/usr/local/lib/python3.10/site-packages/requests/sessions.py:703\u001b[0m, in \u001b[0;36mSession.send\u001b[0;34m(self, request, **kwargs)\u001b[0m\n\u001b[1;32m    700\u001b[0m start \u001b[38;5;241m=\u001b[39m preferred_clock()\n\u001b[1;32m    702\u001b[0m \u001b[38;5;66;03m# Send the request\u001b[39;00m\n\u001b[0;32m--> 703\u001b[0m r \u001b[38;5;241m=\u001b[39m \u001b[43madapter\u001b[49m\u001b[38;5;241;43m.\u001b[39;49m\u001b[43msend\u001b[49m\u001b[43m(\u001b[49m\u001b[43mrequest\u001b[49m\u001b[43m,\u001b[49m\u001b[43m \u001b[49m\u001b[38;5;241;43m*\u001b[39;49m\u001b[38;5;241;43m*\u001b[39;49m\u001b[43mkwargs\u001b[49m\u001b[43m)\u001b[49m\n\u001b[1;32m    705\u001b[0m \u001b[38;5;66;03m# Total elapsed time of the request (approximately)\u001b[39;00m\n\u001b[1;32m    706\u001b[0m elapsed \u001b[38;5;241m=\u001b[39m preferred_clock() \u001b[38;5;241m-\u001b[39m start\n",
      "File \u001b[0;32m/usr/local/lib/python3.10/site-packages/requests/adapters.py:486\u001b[0m, in \u001b[0;36mHTTPAdapter.send\u001b[0;34m(self, request, stream, timeout, verify, cert, proxies)\u001b[0m\n\u001b[1;32m    483\u001b[0m     timeout \u001b[38;5;241m=\u001b[39m TimeoutSauce(connect\u001b[38;5;241m=\u001b[39mtimeout, read\u001b[38;5;241m=\u001b[39mtimeout)\n\u001b[1;32m    485\u001b[0m \u001b[38;5;28;01mtry\u001b[39;00m:\n\u001b[0;32m--> 486\u001b[0m     resp \u001b[38;5;241m=\u001b[39m \u001b[43mconn\u001b[49m\u001b[38;5;241;43m.\u001b[39;49m\u001b[43murlopen\u001b[49m\u001b[43m(\u001b[49m\n\u001b[1;32m    487\u001b[0m \u001b[43m        \u001b[49m\u001b[43mmethod\u001b[49m\u001b[38;5;241;43m=\u001b[39;49m\u001b[43mrequest\u001b[49m\u001b[38;5;241;43m.\u001b[39;49m\u001b[43mmethod\u001b[49m\u001b[43m,\u001b[49m\n\u001b[1;32m    488\u001b[0m \u001b[43m        \u001b[49m\u001b[43murl\u001b[49m\u001b[38;5;241;43m=\u001b[39;49m\u001b[43murl\u001b[49m\u001b[43m,\u001b[49m\n\u001b[1;32m    489\u001b[0m \u001b[43m        \u001b[49m\u001b[43mbody\u001b[49m\u001b[38;5;241;43m=\u001b[39;49m\u001b[43mrequest\u001b[49m\u001b[38;5;241;43m.\u001b[39;49m\u001b[43mbody\u001b[49m\u001b[43m,\u001b[49m\n\u001b[1;32m    490\u001b[0m \u001b[43m        \u001b[49m\u001b[43mheaders\u001b[49m\u001b[38;5;241;43m=\u001b[39;49m\u001b[43mrequest\u001b[49m\u001b[38;5;241;43m.\u001b[39;49m\u001b[43mheaders\u001b[49m\u001b[43m,\u001b[49m\n\u001b[1;32m    491\u001b[0m \u001b[43m        \u001b[49m\u001b[43mredirect\u001b[49m\u001b[38;5;241;43m=\u001b[39;49m\u001b[38;5;28;43;01mFalse\u001b[39;49;00m\u001b[43m,\u001b[49m\n\u001b[1;32m    492\u001b[0m \u001b[43m        \u001b[49m\u001b[43massert_same_host\u001b[49m\u001b[38;5;241;43m=\u001b[39;49m\u001b[38;5;28;43;01mFalse\u001b[39;49;00m\u001b[43m,\u001b[49m\n\u001b[1;32m    493\u001b[0m \u001b[43m        \u001b[49m\u001b[43mpreload_content\u001b[49m\u001b[38;5;241;43m=\u001b[39;49m\u001b[38;5;28;43;01mFalse\u001b[39;49;00m\u001b[43m,\u001b[49m\n\u001b[1;32m    494\u001b[0m \u001b[43m        \u001b[49m\u001b[43mdecode_content\u001b[49m\u001b[38;5;241;43m=\u001b[39;49m\u001b[38;5;28;43;01mFalse\u001b[39;49;00m\u001b[43m,\u001b[49m\n\u001b[1;32m    495\u001b[0m \u001b[43m        \u001b[49m\u001b[43mretries\u001b[49m\u001b[38;5;241;43m=\u001b[39;49m\u001b[38;5;28;43mself\u001b[39;49m\u001b[38;5;241;43m.\u001b[39;49m\u001b[43mmax_retries\u001b[49m\u001b[43m,\u001b[49m\n\u001b[1;32m    496\u001b[0m \u001b[43m        \u001b[49m\u001b[43mtimeout\u001b[49m\u001b[38;5;241;43m=\u001b[39;49m\u001b[43mtimeout\u001b[49m\u001b[43m,\u001b[49m\n\u001b[1;32m    497\u001b[0m \u001b[43m        \u001b[49m\u001b[43mchunked\u001b[49m\u001b[38;5;241;43m=\u001b[39;49m\u001b[43mchunked\u001b[49m\u001b[43m,\u001b[49m\n\u001b[1;32m    498\u001b[0m \u001b[43m    \u001b[49m\u001b[43m)\u001b[49m\n\u001b[1;32m    500\u001b[0m \u001b[38;5;28;01mexcept\u001b[39;00m (ProtocolError, \u001b[38;5;167;01mOSError\u001b[39;00m) \u001b[38;5;28;01mas\u001b[39;00m err:\n\u001b[1;32m    501\u001b[0m     \u001b[38;5;28;01mraise\u001b[39;00m \u001b[38;5;167;01mConnectionError\u001b[39;00m(err, request\u001b[38;5;241m=\u001b[39mrequest)\n",
      "File \u001b[0;32m/usr/local/lib/python3.10/site-packages/urllib3/connectionpool.py:703\u001b[0m, in \u001b[0;36mHTTPConnectionPool.urlopen\u001b[0;34m(self, method, url, body, headers, retries, redirect, assert_same_host, timeout, pool_timeout, release_conn, chunked, body_pos, **response_kw)\u001b[0m\n\u001b[1;32m    700\u001b[0m     \u001b[38;5;28mself\u001b[39m\u001b[38;5;241m.\u001b[39m_prepare_proxy(conn)\n\u001b[1;32m    702\u001b[0m \u001b[38;5;66;03m# Make the request on the httplib connection object.\u001b[39;00m\n\u001b[0;32m--> 703\u001b[0m httplib_response \u001b[38;5;241m=\u001b[39m \u001b[38;5;28;43mself\u001b[39;49m\u001b[38;5;241;43m.\u001b[39;49m\u001b[43m_make_request\u001b[49m\u001b[43m(\u001b[49m\n\u001b[1;32m    704\u001b[0m \u001b[43m    \u001b[49m\u001b[43mconn\u001b[49m\u001b[43m,\u001b[49m\n\u001b[1;32m    705\u001b[0m \u001b[43m    \u001b[49m\u001b[43mmethod\u001b[49m\u001b[43m,\u001b[49m\n\u001b[1;32m    706\u001b[0m \u001b[43m    \u001b[49m\u001b[43murl\u001b[49m\u001b[43m,\u001b[49m\n\u001b[1;32m    707\u001b[0m \u001b[43m    \u001b[49m\u001b[43mtimeout\u001b[49m\u001b[38;5;241;43m=\u001b[39;49m\u001b[43mtimeout_obj\u001b[49m\u001b[43m,\u001b[49m\n\u001b[1;32m    708\u001b[0m \u001b[43m    \u001b[49m\u001b[43mbody\u001b[49m\u001b[38;5;241;43m=\u001b[39;49m\u001b[43mbody\u001b[49m\u001b[43m,\u001b[49m\n\u001b[1;32m    709\u001b[0m \u001b[43m    \u001b[49m\u001b[43mheaders\u001b[49m\u001b[38;5;241;43m=\u001b[39;49m\u001b[43mheaders\u001b[49m\u001b[43m,\u001b[49m\n\u001b[1;32m    710\u001b[0m \u001b[43m    \u001b[49m\u001b[43mchunked\u001b[49m\u001b[38;5;241;43m=\u001b[39;49m\u001b[43mchunked\u001b[49m\u001b[43m,\u001b[49m\n\u001b[1;32m    711\u001b[0m \u001b[43m\u001b[49m\u001b[43m)\u001b[49m\n\u001b[1;32m    713\u001b[0m \u001b[38;5;66;03m# If we're going to release the connection in ``finally:``, then\u001b[39;00m\n\u001b[1;32m    714\u001b[0m \u001b[38;5;66;03m# the response doesn't need to know about the connection. Otherwise\u001b[39;00m\n\u001b[1;32m    715\u001b[0m \u001b[38;5;66;03m# it will also try to release it and we'll have a double-release\u001b[39;00m\n\u001b[1;32m    716\u001b[0m \u001b[38;5;66;03m# mess.\u001b[39;00m\n\u001b[1;32m    717\u001b[0m response_conn \u001b[38;5;241m=\u001b[39m conn \u001b[38;5;28;01mif\u001b[39;00m \u001b[38;5;129;01mnot\u001b[39;00m release_conn \u001b[38;5;28;01melse\u001b[39;00m \u001b[38;5;28;01mNone\u001b[39;00m\n",
      "File \u001b[0;32m/usr/local/lib/python3.10/site-packages/urllib3/connectionpool.py:449\u001b[0m, in \u001b[0;36mHTTPConnectionPool._make_request\u001b[0;34m(self, conn, method, url, timeout, chunked, **httplib_request_kw)\u001b[0m\n\u001b[1;32m    444\u001b[0m             httplib_response \u001b[38;5;241m=\u001b[39m conn\u001b[38;5;241m.\u001b[39mgetresponse()\n\u001b[1;32m    445\u001b[0m         \u001b[38;5;28;01mexcept\u001b[39;00m \u001b[38;5;167;01mBaseException\u001b[39;00m \u001b[38;5;28;01mas\u001b[39;00m e:\n\u001b[1;32m    446\u001b[0m             \u001b[38;5;66;03m# Remove the TypeError from the exception chain in\u001b[39;00m\n\u001b[1;32m    447\u001b[0m             \u001b[38;5;66;03m# Python 3 (including for exceptions like SystemExit).\u001b[39;00m\n\u001b[1;32m    448\u001b[0m             \u001b[38;5;66;03m# Otherwise it looks like a bug in the code.\u001b[39;00m\n\u001b[0;32m--> 449\u001b[0m             \u001b[43msix\u001b[49m\u001b[38;5;241;43m.\u001b[39;49m\u001b[43mraise_from\u001b[49m\u001b[43m(\u001b[49m\u001b[43me\u001b[49m\u001b[43m,\u001b[49m\u001b[43m \u001b[49m\u001b[38;5;28;43;01mNone\u001b[39;49;00m\u001b[43m)\u001b[49m\n\u001b[1;32m    450\u001b[0m \u001b[38;5;28;01mexcept\u001b[39;00m (SocketTimeout, BaseSSLError, SocketError) \u001b[38;5;28;01mas\u001b[39;00m e:\n\u001b[1;32m    451\u001b[0m     \u001b[38;5;28mself\u001b[39m\u001b[38;5;241m.\u001b[39m_raise_timeout(err\u001b[38;5;241m=\u001b[39me, url\u001b[38;5;241m=\u001b[39murl, timeout_value\u001b[38;5;241m=\u001b[39mread_timeout)\n",
      "File \u001b[0;32m<string>:3\u001b[0m, in \u001b[0;36mraise_from\u001b[0;34m(value, from_value)\u001b[0m\n",
      "File \u001b[0;32m/usr/local/lib/python3.10/site-packages/urllib3/connectionpool.py:444\u001b[0m, in \u001b[0;36mHTTPConnectionPool._make_request\u001b[0;34m(self, conn, method, url, timeout, chunked, **httplib_request_kw)\u001b[0m\n\u001b[1;32m    441\u001b[0m \u001b[38;5;28;01mexcept\u001b[39;00m \u001b[38;5;167;01mTypeError\u001b[39;00m:\n\u001b[1;32m    442\u001b[0m     \u001b[38;5;66;03m# Python 3\u001b[39;00m\n\u001b[1;32m    443\u001b[0m     \u001b[38;5;28;01mtry\u001b[39;00m:\n\u001b[0;32m--> 444\u001b[0m         httplib_response \u001b[38;5;241m=\u001b[39m \u001b[43mconn\u001b[49m\u001b[38;5;241;43m.\u001b[39;49m\u001b[43mgetresponse\u001b[49m\u001b[43m(\u001b[49m\u001b[43m)\u001b[49m\n\u001b[1;32m    445\u001b[0m     \u001b[38;5;28;01mexcept\u001b[39;00m \u001b[38;5;167;01mBaseException\u001b[39;00m \u001b[38;5;28;01mas\u001b[39;00m e:\n\u001b[1;32m    446\u001b[0m         \u001b[38;5;66;03m# Remove the TypeError from the exception chain in\u001b[39;00m\n\u001b[1;32m    447\u001b[0m         \u001b[38;5;66;03m# Python 3 (including for exceptions like SystemExit).\u001b[39;00m\n\u001b[1;32m    448\u001b[0m         \u001b[38;5;66;03m# Otherwise it looks like a bug in the code.\u001b[39;00m\n\u001b[1;32m    449\u001b[0m         six\u001b[38;5;241m.\u001b[39mraise_from(e, \u001b[38;5;28;01mNone\u001b[39;00m)\n",
      "File \u001b[0;32m/usr/local/lib/python3.10/http/client.py:1375\u001b[0m, in \u001b[0;36mHTTPConnection.getresponse\u001b[0;34m(self)\u001b[0m\n\u001b[1;32m   1373\u001b[0m \u001b[38;5;28;01mtry\u001b[39;00m:\n\u001b[1;32m   1374\u001b[0m     \u001b[38;5;28;01mtry\u001b[39;00m:\n\u001b[0;32m-> 1375\u001b[0m         \u001b[43mresponse\u001b[49m\u001b[38;5;241;43m.\u001b[39;49m\u001b[43mbegin\u001b[49m\u001b[43m(\u001b[49m\u001b[43m)\u001b[49m\n\u001b[1;32m   1376\u001b[0m     \u001b[38;5;28;01mexcept\u001b[39;00m \u001b[38;5;167;01mConnectionError\u001b[39;00m:\n\u001b[1;32m   1377\u001b[0m         \u001b[38;5;28mself\u001b[39m\u001b[38;5;241m.\u001b[39mclose()\n",
      "File \u001b[0;32m/usr/local/lib/python3.10/http/client.py:318\u001b[0m, in \u001b[0;36mHTTPResponse.begin\u001b[0;34m(self)\u001b[0m\n\u001b[1;32m    316\u001b[0m \u001b[38;5;66;03m# read until we get a non-100 response\u001b[39;00m\n\u001b[1;32m    317\u001b[0m \u001b[38;5;28;01mwhile\u001b[39;00m \u001b[38;5;28;01mTrue\u001b[39;00m:\n\u001b[0;32m--> 318\u001b[0m     version, status, reason \u001b[38;5;241m=\u001b[39m \u001b[38;5;28;43mself\u001b[39;49m\u001b[38;5;241;43m.\u001b[39;49m\u001b[43m_read_status\u001b[49m\u001b[43m(\u001b[49m\u001b[43m)\u001b[49m\n\u001b[1;32m    319\u001b[0m     \u001b[38;5;28;01mif\u001b[39;00m status \u001b[38;5;241m!=\u001b[39m CONTINUE:\n\u001b[1;32m    320\u001b[0m         \u001b[38;5;28;01mbreak\u001b[39;00m\n",
      "File \u001b[0;32m/usr/local/lib/python3.10/http/client.py:279\u001b[0m, in \u001b[0;36mHTTPResponse._read_status\u001b[0;34m(self)\u001b[0m\n\u001b[1;32m    278\u001b[0m \u001b[38;5;28;01mdef\u001b[39;00m \u001b[38;5;21m_read_status\u001b[39m(\u001b[38;5;28mself\u001b[39m):\n\u001b[0;32m--> 279\u001b[0m     line \u001b[38;5;241m=\u001b[39m \u001b[38;5;28mstr\u001b[39m(\u001b[38;5;28;43mself\u001b[39;49m\u001b[38;5;241;43m.\u001b[39;49m\u001b[43mfp\u001b[49m\u001b[38;5;241;43m.\u001b[39;49m\u001b[43mreadline\u001b[49m\u001b[43m(\u001b[49m\u001b[43m_MAXLINE\u001b[49m\u001b[43m \u001b[49m\u001b[38;5;241;43m+\u001b[39;49m\u001b[43m \u001b[49m\u001b[38;5;241;43m1\u001b[39;49m\u001b[43m)\u001b[49m, \u001b[38;5;124m\"\u001b[39m\u001b[38;5;124miso-8859-1\u001b[39m\u001b[38;5;124m\"\u001b[39m)\n\u001b[1;32m    280\u001b[0m     \u001b[38;5;28;01mif\u001b[39;00m \u001b[38;5;28mlen\u001b[39m(line) \u001b[38;5;241m>\u001b[39m _MAXLINE:\n\u001b[1;32m    281\u001b[0m         \u001b[38;5;28;01mraise\u001b[39;00m LineTooLong(\u001b[38;5;124m\"\u001b[39m\u001b[38;5;124mstatus line\u001b[39m\u001b[38;5;124m\"\u001b[39m)\n",
      "File \u001b[0;32m/usr/local/lib/python3.10/socket.py:705\u001b[0m, in \u001b[0;36mSocketIO.readinto\u001b[0;34m(self, b)\u001b[0m\n\u001b[1;32m    703\u001b[0m \u001b[38;5;28;01mwhile\u001b[39;00m \u001b[38;5;28;01mTrue\u001b[39;00m:\n\u001b[1;32m    704\u001b[0m     \u001b[38;5;28;01mtry\u001b[39;00m:\n\u001b[0;32m--> 705\u001b[0m         \u001b[38;5;28;01mreturn\u001b[39;00m \u001b[38;5;28;43mself\u001b[39;49m\u001b[38;5;241;43m.\u001b[39;49m\u001b[43m_sock\u001b[49m\u001b[38;5;241;43m.\u001b[39;49m\u001b[43mrecv_into\u001b[49m\u001b[43m(\u001b[49m\u001b[43mb\u001b[49m\u001b[43m)\u001b[49m\n\u001b[1;32m    706\u001b[0m     \u001b[38;5;28;01mexcept\u001b[39;00m timeout:\n\u001b[1;32m    707\u001b[0m         \u001b[38;5;28mself\u001b[39m\u001b[38;5;241m.\u001b[39m_timeout_occurred \u001b[38;5;241m=\u001b[39m \u001b[38;5;28;01mTrue\u001b[39;00m\n",
      "File \u001b[0;32m/usr/local/lib/python3.10/ssl.py:1274\u001b[0m, in \u001b[0;36mSSLSocket.recv_into\u001b[0;34m(self, buffer, nbytes, flags)\u001b[0m\n\u001b[1;32m   1270\u001b[0m     \u001b[38;5;28;01mif\u001b[39;00m flags \u001b[38;5;241m!=\u001b[39m \u001b[38;5;241m0\u001b[39m:\n\u001b[1;32m   1271\u001b[0m         \u001b[38;5;28;01mraise\u001b[39;00m \u001b[38;5;167;01mValueError\u001b[39;00m(\n\u001b[1;32m   1272\u001b[0m           \u001b[38;5;124m\"\u001b[39m\u001b[38;5;124mnon-zero flags not allowed in calls to recv_into() on \u001b[39m\u001b[38;5;132;01m%s\u001b[39;00m\u001b[38;5;124m\"\u001b[39m \u001b[38;5;241m%\u001b[39m\n\u001b[1;32m   1273\u001b[0m           \u001b[38;5;28mself\u001b[39m\u001b[38;5;241m.\u001b[39m\u001b[38;5;18m__class__\u001b[39m)\n\u001b[0;32m-> 1274\u001b[0m     \u001b[38;5;28;01mreturn\u001b[39;00m \u001b[38;5;28;43mself\u001b[39;49m\u001b[38;5;241;43m.\u001b[39;49m\u001b[43mread\u001b[49m\u001b[43m(\u001b[49m\u001b[43mnbytes\u001b[49m\u001b[43m,\u001b[49m\u001b[43m \u001b[49m\u001b[43mbuffer\u001b[49m\u001b[43m)\u001b[49m\n\u001b[1;32m   1275\u001b[0m \u001b[38;5;28;01melse\u001b[39;00m:\n\u001b[1;32m   1276\u001b[0m     \u001b[38;5;28;01mreturn\u001b[39;00m \u001b[38;5;28msuper\u001b[39m()\u001b[38;5;241m.\u001b[39mrecv_into(buffer, nbytes, flags)\n",
      "File \u001b[0;32m/usr/local/lib/python3.10/ssl.py:1130\u001b[0m, in \u001b[0;36mSSLSocket.read\u001b[0;34m(self, len, buffer)\u001b[0m\n\u001b[1;32m   1128\u001b[0m \u001b[38;5;28;01mtry\u001b[39;00m:\n\u001b[1;32m   1129\u001b[0m     \u001b[38;5;28;01mif\u001b[39;00m buffer \u001b[38;5;129;01mis\u001b[39;00m \u001b[38;5;129;01mnot\u001b[39;00m \u001b[38;5;28;01mNone\u001b[39;00m:\n\u001b[0;32m-> 1130\u001b[0m         \u001b[38;5;28;01mreturn\u001b[39;00m \u001b[38;5;28;43mself\u001b[39;49m\u001b[38;5;241;43m.\u001b[39;49m\u001b[43m_sslobj\u001b[49m\u001b[38;5;241;43m.\u001b[39;49m\u001b[43mread\u001b[49m\u001b[43m(\u001b[49m\u001b[38;5;28;43mlen\u001b[39;49m\u001b[43m,\u001b[49m\u001b[43m \u001b[49m\u001b[43mbuffer\u001b[49m\u001b[43m)\u001b[49m\n\u001b[1;32m   1131\u001b[0m     \u001b[38;5;28;01melse\u001b[39;00m:\n\u001b[1;32m   1132\u001b[0m         \u001b[38;5;28;01mreturn\u001b[39;00m \u001b[38;5;28mself\u001b[39m\u001b[38;5;241m.\u001b[39m_sslobj\u001b[38;5;241m.\u001b[39mread(\u001b[38;5;28mlen\u001b[39m)\n",
      "\u001b[0;31mKeyboardInterrupt\u001b[0m: "
     ]
    }
   ],
   "source": [
    "processed_data = []\n",
    "\n",
    "for data in train_data[:10]:\n",
    "    judgement = data['fact']\n",
    "    processed_data.append(process_judgement(judgement))\n",
    "\n",
    "with open(\"experiment1/breeze_summary_scenario.json\", \"w\", encoding=\"utf-8\") as j:\n",
    "    json.dump(processed_data, j, ensure_ascii=False, indent=4)"
   ]
  },
  {
   "cell_type": "markdown",
   "metadata": {},
   "source": [
    "### 合併資料"
   ]
  },
  {
   "cell_type": "code",
   "execution_count": 12,
   "metadata": {},
   "outputs": [],
   "source": [
    "with open('experiment1/gpt_scenario.json', 'r', encoding='utf-8') as f:\n",
    "    gpt_scenario = json.load(f)\n",
    "\n",
    "with open('experiment1/breeze_scenario.json', 'r', encoding='utf-8') as f:\n",
    "    breeze_scenario = json.load(f)\n",
    "\n",
    "with open('experiment1/breeze_summary_scenario.json', 'r', encoding='utf-8') as f:\n",
    "    breeze_summary_scenario = json.load(f)"
   ]
  },
  {
   "cell_type": "code",
   "execution_count": 14,
   "metadata": {},
   "outputs": [
    {
     "name": "stdout",
     "output_type": "stream",
     "text": [
      "10\n",
      "['judgement', 'summary']\n"
     ]
    },
    {
     "data": {
      "text/plain": [
       "{'judgement': '一、陳泰龍明知其與泰國籍女子陳玉婉（泰國名字為JARUWANWONGPRATOOM，陳玉婉涉嫌本案偽造文書部分，另經臺灣臺南地方法院檢察署檢察官通緝中）間並無結婚之真意，然因詹巧薇、張晉源等人欲找臺灣男子前往泰國與泰國女子辦理假結婚，林清水負責介紹臺灣男子予詹巧薇、張晉源等人以賺取新臺幣（下同）1萬元之仲介費，適陳泰龍依林清水於報紙上刊登之徵人廣告應徵時，由林清水告知泰國女子欲以假結婚之方式申請來臺居留工作，其若擔任假結婚之人頭老公，除不用負擔前往泰國之食宿、機票費用外，尚可獲取5、6萬元之報酬，迨陳泰龍應允同意後，林清水將其轉介紹予詹巧薇、張晉源等人，陳泰龍遂與林清水、詹巧薇、張晉源等人共同基於行使使公務員登載不實公文書之概括犯意聯絡，先由陳泰龍依指示於民國93年4月3日前往泰國，並於同年月7日與陳玉婉在泰國曼谷市法拉坎農區註冊辦事處登記結婚，取得上開註冊辦事處核發之結婚登記書、結婚證書等文件後，陳泰龍即行返臺，並於同年5月19日持經我國駐泰國臺北經濟文化辦事處認證之上開結婚登記書、結婚證書等資料，至臺南縣永康市（改制前稱謂，以下沿用舊制稱謂）戶政事務所填寫結婚登記申請書，申請辦理其與陳玉婉之結婚登記，因此使上開戶政事務所僅有形式審查權之承辦公務員陷於錯誤，於形式上審核後，將陳泰龍與陳玉婉於93年4月7日結婚之不實事項，登載於其職務上所掌屬公文書之戶籍登記資料內，並據以核發戶籍謄本，而足以生損害於戶政機關對於戶政管理及戶籍登記資料維護之正確性。迨陳玉婉來臺後，為取得居留身分，再由陳泰龍、陳玉婉承前概括之犯意聯絡，於同年6月14日及94年5月5日，均持前開登載不實之戶籍謄本等資料，先後向臺南縣政府警察局外事課申請核發陳玉婉之外僑居留證及申請居留證延期而連續行使之（業經檢察官當庭補充），經承辦人員實質審查結果，均未發覺陳泰龍與陳玉婉假結婚之實情，而發給陳玉婉居留證或核准延期，各足以生損害於主管機關對外僑居留管理之正確性。二、案經臺南市警察局（現改制為臺南市政府警察局，以下沿用舊制稱謂）第一分局報告臺灣臺南地方法院檢察署檢察官偵查起訴。理由甲、程序方面：一、本件以下所引用具傳聞證據性質之供述證據，因本件被告陳泰龍、檢察官等人於本院準備程序進行時，均未爭執前開陳述之證據能力，且迄至本案言詞辯論終結前亦均未聲明異議，應視為已同意援引作為證據，又本院審酌前開證據作成時之情況及證據取得過程等節，並無非出於任意性、不正取供或其他違法不當情事，且客觀上亦無顯不可信之情況，堪認為適當，是依刑事訴訟法第159條之5規定，均有證據能力。二、卷附之被告及陳玉婉入出國日期紀錄各1份等書證，均非屬供述證據，皆無傳聞法則之適用，復均無違反法定程序取得之情形，依刑事訴訟法第158條之4規定之反面解釋，均應有證據能力。乙、實體方面：一、訊據被告固坦承於上開時、地，透過共犯林清水之介紹，先至泰國辦理與共犯陳玉婉之結婚手續，再前往臺南縣永康市戶政事務所辦理結婚登記，又前往臺南縣政府警察局外事課辦理共犯陳玉婉之外僑居留證及申請居留證延期之事實，惟矢口否認有何行使使公務員登載不實文書情事，於本院審理時辯稱：伊當時經濟狀況良好，因同居女友欲去日本工作而不願結婚，然伊希望結婚生子，遂透過共犯林清水之介紹與安排，共犯林清水先讓伊看過共犯陳玉婉之照片，伊再前往泰國與共犯陳玉婉結婚，伊僅負擔自己的來回機票錢及泰國住宿費用，其他結婚費用均由共犯林清水負擔，伊則贈送伊的一部機車予共犯林清水以為回報，伊並不認識共犯詹巧薇云云。經查：(一)被告於93年4月3日前往泰國，並於同年月7日與共犯陳玉婉在泰國曼谷市法拉坎農區註冊辦事處登記結婚，取得上開註冊辦事處核發之結婚登記書、結婚證書等文件後，被告即行返臺，並於同年5月19日持經我國駐泰國臺北經濟文化辦事處認證之上開結婚登記書、結婚證書等資料，至臺南縣永康市戶政事務所填寫結婚登記申請書，申請辦理其與共犯陳玉婉之結婚登記，並取得戶籍謄本。迨共犯陳玉婉來臺後，為取得居留身分，被告與共犯陳玉婉於同年6月14日及94年5月5日，均持前開戶籍謄本等資料，先後向臺南縣政府警察局外事課申請核發共犯陳玉婉之外僑居留證及申請居留證延期等情，業據被告供承在卷，並有結婚登記申請書、授權書各1份、結婚登記書、結婚證書各1份（含中文、泰文影本及我國駐泰國臺北經濟文化辦事處認證之資料）、93年6月14日及94年5月5日之外國人居留停留案件聲請表各1份、被告及共犯陳玉婉之入出國日期紀錄各1份、共犯陳玉婉之外僑居留資料查詢1份在卷可按（見警三卷即南市警一刑偵字第0994101517號卷第6至24、33頁）。上開事實，首堪認定。(二)共犯詹巧薇、張晉源等人當時欲找臺灣人與泰國女子結婚，由共犯林清水於報紙上刊登徵人廣告，若應徵者符合與泰國人結婚之條件，便將應徵者介紹予共犯詹巧薇、張晉源等人，共犯林清水可從中獲取1萬元之仲介費，適被告依前開徵人廣告應徵，共犯林清水衡量其條件後告知其可至泰國結婚，其除不用負擔前往泰國之機票及食宿費用外，尚可獲取5至6萬元之報酬，被告應允同意後，共犯林清水將其介紹予詹巧薇、張晉源等人，被告即依指示前往泰國與為了來臺工作且無結婚真意的共犯陳玉婉辦理結婚事宜等情，業據共犯林清水於警詢時證稱：伊登報徵人到泰國結婚，被告看報紙來的，伊便轉介予共犯詹巧薇，由共犯詹巧薇安排後續到泰國結婚之事宜，被告除不用負擔前往泰國機票、食宿等費用，尚可獲取約5至6萬元酬勞，伊則可自共犯詹巧薇獲取約1萬元之仲介費用；伊只有將被告轉介予共犯詹巧薇，並未參與後續被告前往泰國之證照、機票、食宿等相關事宜；被告係因缺錢，為了賺取擔任人頭配偶的佣金5至6萬，並不是真的要與泰國人結婚，共犯陳玉婉係為了來臺灣工作賺錢，亦不是真的要與臺灣人結婚等語（見警三卷第2至3頁）；並於本院審理時具結證稱：當初共犯詹巧薇、張晉源等人欲找男子前往泰國結婚，伊曾刊登「男、女不限、經驗不拘」等內容之徵人廣告，被告見報應徵時，被告係因缺錢才來找伊，伊衡量被告條件後認為其只能利用結婚賺取報酬，伊才向其表示是要辦結婚，伊告知被告可安排其去泰國結婚，其不用負擔食宿及機票等費用，可實拿5至6萬元的報酬，被告同意後，伊將被告介紹予共犯詹巧薇、張晉源，共犯張晉源給付佣金1萬元予伊；伊與被告談論泰國結婚事宜時，伊與被告均不知被告之結婚對象為何人，伊亦未見過與被告結婚之泰國女子，伊僅介紹被告予共犯詹巧薇、張晉源等人，伊並未參予後續之泰國結婚、辦理結婚登記及居留申請等事情；被告曾給伊一部機車，當時被告表示要去別的地方，機車留在臺南無人使用，伊修理使用一段期間後，因再度壞掉便未再使用等語（見本院卷第68頁背面至71頁）。而共犯林清水於93、94年間，因仲介臺灣人民陳益昌、林哲銘、廖震南、陳朝榮、王照明等5人擔任人頭老公與泰國女子假結婚，陳益昌等5人均獲取5至7萬元報酬等情，經本院以95年度簡上字第330號判處有期徒刑7月確定，另共犯詹巧薇於92年間，因與共犯張晉源等人共同仲介臺灣人民莊國寶、林世欽、蔡明峰等3人擔任人頭老公與泰國女子假結婚等情，經本院以99年度簡字第1313號判處有期徒刑4月並減為有期徒刑2月確定，又共犯林清水、詹巧薇因本案被告與共犯陳玉婉辦理假結婚致涉嫌共同行使使公務員登載不實文書犯行部分，經臺灣臺南地方法院檢察官認為與前開95年度簡上字第330號、99年度簡字第1313號論罪科刑部分有連續犯之裁判上一罪關係，故均以99年度偵字第17571、17771號、100年度偵字第4564號為不起訴處分確定，有前開判決書及不起訴處分書各1份在卷可按，堪認共犯林清水、詹巧薇、張晉源確曾仲介或安排臺灣男子前往泰國與泰國女子假結婚無訛。又被告與共犯林清水並無任何仇怨糾葛，被告尚提供一部機車予共犯林清水使用，衡諸常情，共犯林清水尚無隨意誣指構陷被告之動機，復衡以其於本院中具結後證述上情歷歷，核與其警詢中證述之情節大致相符，苟非親身經歷，尚均無圖陷被告入罪而自行擔負偽證罪責風險之必要，顯見其確係依憑當時親身見聞所為之證述，參以被告於93年4月26日將戶籍遷移寄放至共犯林清水籍設於臺南縣永康市○○路152號之住所，其戶籍遷入目的係為了便利結婚登記之辦理，被告亦依此戶籍地向臺南縣永康市戶政事務所辦理其與共犯陳玉婉之結婚登記等情，業據被告於本院審理時供承伊戶籍寄放於前開住址不諱，及共犯林清水於本院審理時具結證稱：被告將戶籍寄放於伊住所是為了辦理結婚，要拿證件辦理結婚登記比較方便等語（見本院卷第70頁），並有被告及共犯林清水之個人戶籍資料查詢結果各1份、結婚登記申請書1份在卷可佐，而前開95年度簡上字第330號案件中之人頭老公林哲銘亦由共犯林清水提供前開住所供其設籍，並依該戶籍地辦理結婚登記等情，亦據證人林哲銘於警詢時證述明確（見警二卷第19頁），並有證人林哲銘之結婚登記申請書1紙附卷可佐（見警二卷第46頁），益徵被告確係共犯林清水仲介之人頭老公的其中一人甚明。(三)綜上所述，被告與共犯陳玉婉確係假結婚無訛，是被告前開所辯，要屬卸責之詞，殊無可採。本案事證至臻明確，被告上開犯行堪以認定，應予依法論科。二、按被告行為後，刑法業於民國94年2月2日修正公布，並自95年7月1日施行。按行為後法律有變更者，適用行為時之法律，但行為後之法律有利於行為人者，適用最有利於行為人之法律，修正後刑法第2條第1項定有明文。該規定係規範行為後法律變更所生新舊法律比較適用之準據法，是刑法第2條本身雖經修正，尚無比較新舊法之問題，應一律適用裁判時之刑法第2條規定。次按本次刑法修正之新舊法比較，應就罪刑有關之共犯、未遂犯、想像競合犯、牽連犯、連續犯、結合犯、以及累犯加重、自首減輕暨其他法定加減原因（如身分加減）與加減例等一切情形，綜其全部罪刑之結果而為比較，有最高法院95年5月23日95年度第8次刑庭會議決議可資參照。經查：(一)依增訂之刑法施行法第1條之1：「中華民國94年1月7日刑法修正施行後，刑法分則編所定罰金之貨幣單位為新臺幣。94年1月7日刑法修正時，刑法分則編未修正之條文定有罰金者，自94年1月7日刑法修正施行後，就其所定數額提高為30倍。但72年6月26日至94年1月7日新增或修正之條文，就其所定數額提高為3倍。」，是比較修正後刑法施行法第1條之1第2項與罰金罰鍰提高標準條例第1條之結果，因兩者之罰金最高額度相同而無有利不利之情形，自無刑法第2條第1項之適用，應逕依現行有效且具特別法性質之刑法施行法第1條之1的規定。(二)刑法第33條第5款修正為：「主刑之種類如下：五、罰金：新臺幣1000元以上，以百元計算之。」，是依修正後之法律，刑法第335條第1項之侵占罪所得科處之罰金刑最低為新臺幣1000元，而另依修正前刑法第33條第5款及罰金罰鍰提高標準條例第1條前段規定，罰金最低額則為銀元1元折算為新臺幣3元，故比較新舊法之結果，自以修正前刑法第33條第5款規定較有利於被告。(三)刑法第28條修正前規定為：「2人以上共同實施犯罪之行為者，皆為正犯。」，而修正後規定為：「2人以上共同實行犯罪之行為者，皆為正犯。」，是依修正後之規定係將共同正犯限於直接從事構成犯罪事實之行為者，而排除陰謀共同正犯及預謀共同正犯之類型，故修正後共同正犯之可罰性要件之範圍業已限縮。惟本件被告既係直接從事構成犯罪事實之行為，則比較修正前後規定之結果，並無有利或不利之情形，應逕依修正後規定。(四)刑法第56條連續犯之規定於刑法修正後業經刪除，是新法修正施行後，行為人之數犯罪行為便須分論併罰。是該項刪除雖非犯罪構成要件之變更，但已影響行為人刑罰之法律效果，自屬法律有所變更而有比較新舊法之必要。若依舊法之規定，以一罪論而僅加重其刑至2分之1，但若依新法則須分科併罰，經比較之結果，自以修正前刑法第56條對被告較為有利。(五)綜上，本院綜合被告所涉上揭全部罪行之一切情形而為比較，揆諸前揭最高法院決議及刑法第2條第1項前段規定，被告適用行為時即修正前刑法之相關規定，對其較為有利，自應一體適用修正前刑法規定予以處斷。三、論罪科刑：(一)核被告所為，係犯刑法第216條、第214條之行使使公務員登載不實文書罪。被告與共犯林清水、詹巧薇、張晉源等人就上揭犯行，彼此間有犯意聯絡及行為分擔，為共同正犯。被告使公務員登載不實事項於其所掌公文書之低度行為，為行使之高度行為所吸收，不另論罪。被告於93年5月19日、93年6月14日及94年5月5日先後多次行使使公務員登載不實文書之犯行，時間密接，所犯係構成要件相同之罪名，顯係基於概括犯意反覆為之，為連續犯，應依修正前刑法第56條規定論以一罪，並加重其刑。(二)爰審酌被告為圖私利，竟藉由假結婚之方式便利共犯陳玉婉入境居留，損害戶政機關結婚登記及主管機關對於外國人居留管理之正確性，對社會秩序、善良風俗及警政機關對治安之管理均非無潛在之危害，復參酌被告犯後自始否認犯行，未見悔意，及其智識程度、生活狀況等一切情狀，量處如主文所示之刑，以資懲儆。另被告行為後，關於易科罰金之折算標準，依修正前刑法第41條第1項前段及廢止前罰金罰鍰提高標準條例第2條，係以銀元1百元、2百元或3百元，即新臺幣3百元、6百元或9百元折算1日，而依修正後刑法第41條第1項前段規定，則係以新臺幣1千元、2千元或3千元折算1日，故依刑法第2條第1項前段之規定來比較新舊法之結果，應適用修正前之規定較為有利，爰依修正前刑法第41條第1項前段及廢止前罰金罰鍰提高標準條例第2條諭知易科罰金之折算標準。又被告之犯罪時間係在96年4月24日以前，所犯合於中華民國九十六年罪犯減刑條例之減刑條件，應依該條例第2條第1項第3款、第7條及第9條，減其宣告刑2分之1，並諭知易科罰金之折算標準。四、末按連續數行為而犯同一之罪名，均在新法施行前者，新法施行後，應依新法第2條第1項之規定，適用最有利於行為人之法律。部分之數行為，發生在新法施行前者，新法施行後，該部分適用最有利於行為人之法律。若其中部分之一行為或數行為，發生在新法施行後者，該部分不能論以連續犯（最高法院95年度第8次刑事庭會議決議參照，即該決議五數罪併罰之(四)連續犯部分）。查被告涉嫌於96年5月28日及96年9月3日與共犯陳玉婉共同持前開登載不實之戶籍謄本等資料，先後向臺南縣政府警察局外事課申請核發陳玉婉之延期居留等事宜，有96年5月28日及96年9月3日之外國人居留停留案件申請表各1份附卷可憑，被告此部分涉嫌共同行使使公務員登載不實文書犯行，均在95年7月1日刑法修正廢除第56條連續犯規定以後，亦未據檢察官記載於起訴書犯罪事實內，揆諸前開說明，此部分犯行與前開論罪科刑部份無連續犯之裁判上一罪關係，自非本院得審判之範圍，附此敘明之。據上論斷，應依刑事訴訟法第299條第1項前段，刑法第2條第1項前段、第28條、第216條、第214條，修正前刑法第56條、第41條第1項前段，刑法施行法第1條之1，修正廢止前罰金罰鍰提高標準條例第2條，中華民國96年罪犯減刑條例第2條第1項第3款、第7條、第9條，判決如主文。本案經檢察官莊玲如到庭執行職務。中華民國101年1月20日刑事第四庭審判長法官林逸梅法官鄭文祺法官莊政達以上正本證明與原本無異。如不服本判決應於收受本判後10日內向本院提出上訴書狀，並應敘述具體理由。其未敘述上訴理由者，應於上訴期間屆滿後20日內向本院補提理由書狀（均須按他造當事人之人數附繕本）「切勿逕送上級法院」。書記官吳昕韋中華民國101年2月1日附錄本案論罪科刑法條：中華民國刑法第214條（使公務員登載不實罪）明知為不實之事項，而使公務員登載於職務上所掌之公文書，足以生損害於公眾或他人者，處3年以下有期徒刑、拘役或5百元以下罰金。中華民國刑法第216條（行使偽造變造或登載不實之文書罪）行使第210條至第215條之文書者，依偽造、變造文書或登載不實事項或使登載不實事項之規定處斷。',\n",
       " 'summary': '這宗案件涉及假結婚的問題，其中包括一個臺灣男子與一名泰國女性的假結婚安排，目的是為了讓該泰國女性能夠以假結婚的名義申請來臺居留和工作。案中男子在知情的情況下，被一群人誘導參與這個計畫，且因此獲取報酬。他們利用偽造的結婚證明文件，申請並成功使泰國女性獲得臺灣的居留權。這個過程中，不僅涉及偽造私文書的犯罪行為，同時也嚴重影響了臺灣戶政及外僑居留管理的準確性和嚴肅性。案件最後因行為人的不法行為被告發，並由司法機關偵辦。這顯示出假結婚行為不僅侵害了政府機關的管理效能，也損害了社會的道德法則，必須透過司法途徑嚴肅處理。'}"
      ]
     },
     "execution_count": 14,
     "metadata": {},
     "output_type": "execute_result"
    }
   ],
   "source": [
    "print(len(gpt_scenario))\n",
    "col = list(gpt_scenario[0].keys())\n",
    "print(col)\n",
    "gpt_scenario[0]"
   ]
  },
  {
   "cell_type": "code",
   "execution_count": 15,
   "metadata": {},
   "outputs": [
    {
     "name": "stdout",
     "output_type": "stream",
     "text": [
      "10\n",
      "['judgement', 'scenario_with_example', 'scenario_without_example']\n"
     ]
    },
    {
     "data": {
      "text/plain": [
       "{'judgement': '一、陳泰龍明知其與泰國籍女子陳玉婉（泰國名字為JARUWANWONGPRATOOM，陳玉婉涉嫌本案偽造文書部分，另經臺灣臺南地方法院檢察署檢察官通緝中）間並無結婚之真意，然因詹巧薇、張晉源等人欲找臺灣男子前往泰國與泰國女子辦理假結婚，林清水負責介紹臺灣男子予詹巧薇、張晉源等人以賺取新臺幣（下同）1萬元之仲介費，適陳泰龍依林清水於報紙上刊登之徵人廣告應徵時，由林清水告知泰國女子欲以假結婚之方式申請來臺居留工作，其若擔任假結婚之人頭老公，除不用負擔前往泰國之食宿、機票費用外，尚可獲取5、6萬元之報酬，迨陳泰龍應允同意後，林清水將其轉介紹予詹巧薇、張晉源等人，陳泰龍遂與林清水、詹巧薇、張晉源等人共同基於行使使公務員登載不實公文書之概括犯意聯絡，先由陳泰龍依指示於民國93年4月3日前往泰國，並於同年月7日與陳玉婉在泰國曼谷市法拉坎農區註冊辦事處登記結婚，取得上開註冊辦事處核發之結婚登記書、結婚證書等文件後，陳泰龍即行返臺，並於同年5月19日持經我國駐泰國臺北經濟文化辦事處認證之上開結婚登記書、結婚證書等資料，至臺南縣永康市（改制前稱謂，以下沿用舊制稱謂）戶政事務所填寫結婚登記申請書，申請辦理其與陳玉婉之結婚登記，因此使上開戶政事務所僅有形式審查權之承辦公務員陷於錯誤，於形式上審核後，將陳泰龍與陳玉婉於93年4月7日結婚之不實事項，登載於其職務上所掌屬公文書之戶籍登記資料內，並據以核發戶籍謄本，而足以生損害於戶政機關對於戶政管理及戶籍登記資料維護之正確性。迨陳玉婉來臺後，為取得居留身分，再由陳泰龍、陳玉婉承前概括之犯意聯絡，於同年6月14日及94年5月5日，均持前開登載不實之戶籍謄本等資料，先後向臺南縣政府警察局外事課申請核發陳玉婉之外僑居留證及申請居留證延期而連續行使之（業經檢察官當庭補充），經承辦人員實質審查結果，均未發覺陳泰龍與陳玉婉假結婚之實情，而發給陳玉婉居留證或核准延期，各足以生損害於主管機關對外僑居留管理之正確性。二、案經臺南市警察局（現改制為臺南市政府警察局，以下沿用舊制稱謂）第一分局報告臺灣臺南地方法院檢察署檢察官偵查起訴。理由甲、程序方面：一、本件以下所引用具傳聞證據性質之供述證據，因本件被告陳泰龍、檢察官等人於本院準備程序進行時，均未爭執前開陳述之證據能力，且迄至本案言詞辯論終結前亦均未聲明異議，應視為已同意援引作為證據，又本院審酌前開證據作成時之情況及證據取得過程等節，並無非出於任意性、不正取供或其他違法不當情事，且客觀上亦無顯不可信之情況，堪認為適當，是依刑事訴訟法第159條之5規定，均有證據能力。二、卷附之被告及陳玉婉入出國日期紀錄各1份等書證，均非屬供述證據，皆無傳聞法則之適用，復均無違反法定程序取得之情形，依刑事訴訟法第158條之4規定之反面解釋，均應有證據能力。乙、實體方面：一、訊據被告固坦承於上開時、地，透過共犯林清水之介紹，先至泰國辦理與共犯陳玉婉之結婚手續，再前往臺南縣永康市戶政事務所辦理結婚登記，又前往臺南縣政府警察局外事課辦理共犯陳玉婉之外僑居留證及申請居留證延期之事實，惟矢口否認有何行使使公務員登載不實文書情事，於本院審理時辯稱：伊當時經濟狀況良好，因同居女友欲去日本工作而不願結婚，然伊希望結婚生子，遂透過共犯林清水之介紹與安排，共犯林清水先讓伊看過共犯陳玉婉之照片，伊再前往泰國與共犯陳玉婉結婚，伊僅負擔自己的來回機票錢及泰國住宿費用，其他結婚費用均由共犯林清水負擔，伊則贈送伊的一部機車予共犯林清水以為回報，伊並不認識共犯詹巧薇云云。經查：(一)被告於93年4月3日前往泰國，並於同年月7日與共犯陳玉婉在泰國曼谷市法拉坎農區註冊辦事處登記結婚，取得上開註冊辦事處核發之結婚登記書、結婚證書等文件後，被告即行返臺，並於同年5月19日持經我國駐泰國臺北經濟文化辦事處認證之上開結婚登記書、結婚證書等資料，至臺南縣永康市戶政事務所填寫結婚登記申請書，申請辦理其與共犯陳玉婉之結婚登記，並取得戶籍謄本。迨共犯陳玉婉來臺後，為取得居留身分，被告與共犯陳玉婉於同年6月14日及94年5月5日，均持前開戶籍謄本等資料，先後向臺南縣政府警察局外事課申請核發共犯陳玉婉之外僑居留證及申請居留證延期等情，業據被告供承在卷，並有結婚登記申請書、授權書各1份、結婚登記書、結婚證書各1份（含中文、泰文影本及我國駐泰國臺北經濟文化辦事處認證之資料）、93年6月14日及94年5月5日之外國人居留停留案件聲請表各1份、被告及共犯陳玉婉之入出國日期紀錄各1份、共犯陳玉婉之外僑居留資料查詢1份在卷可按（見警三卷即南市警一刑偵字第0994101517號卷第6至24、33頁）。上開事實，首堪認定。(二)共犯詹巧薇、張晉源等人當時欲找臺灣人與泰國女子結婚，由共犯林清水於報紙上刊登徵人廣告，若應徵者符合與泰國人結婚之條件，便將應徵者介紹予共犯詹巧薇、張晉源等人，共犯林清水可從中獲取1萬元之仲介費，適被告依前開徵人廣告應徵，共犯林清水衡量其條件後告知其可至泰國結婚，其除不用負擔前往泰國之機票及食宿費用外，尚可獲取5至6萬元之報酬，被告應允同意後，共犯林清水將其介紹予詹巧薇、張晉源等人，被告即依指示前往泰國與為了來臺工作且無結婚真意的共犯陳玉婉辦理結婚事宜等情，業據共犯林清水於警詢時證稱：伊登報徵人到泰國結婚，被告看報紙來的，伊便轉介予共犯詹巧薇，由共犯詹巧薇安排後續到泰國結婚之事宜，被告除不用負擔前往泰國機票、食宿等費用，尚可獲取約5至6萬元酬勞，伊則可自共犯詹巧薇獲取約1萬元之仲介費用；伊只有將被告轉介予共犯詹巧薇，並未參與後續被告前往泰國之證照、機票、食宿等相關事宜；被告係因缺錢，為了賺取擔任人頭配偶的佣金5至6萬，並不是真的要與泰國人結婚，共犯陳玉婉係為了來臺灣工作賺錢，亦不是真的要與臺灣人結婚等語（見警三卷第2至3頁）；並於本院審理時具結證稱：當初共犯詹巧薇、張晉源等人欲找男子前往泰國結婚，伊曾刊登「男、女不限、經驗不拘」等內容之徵人廣告，被告見報應徵時，被告係因缺錢才來找伊，伊衡量被告條件後認為其只能利用結婚賺取報酬，伊才向其表示是要辦結婚，伊告知被告可安排其去泰國結婚，其不用負擔食宿及機票等費用，可實拿5至6萬元的報酬，被告同意後，伊將被告介紹予共犯詹巧薇、張晉源，共犯張晉源給付佣金1萬元予伊；伊與被告談論泰國結婚事宜時，伊與被告均不知被告之結婚對象為何人，伊亦未見過與被告結婚之泰國女子，伊僅介紹被告予共犯詹巧薇、張晉源等人，伊並未參予後續之泰國結婚、辦理結婚登記及居留申請等事情；被告曾給伊一部機車，當時被告表示要去別的地方，機車留在臺南無人使用，伊修理使用一段期間後，因再度壞掉便未再使用等語（見本院卷第68頁背面至71頁）。而共犯林清水於93、94年間，因仲介臺灣人民陳益昌、林哲銘、廖震南、陳朝榮、王照明等5人擔任人頭老公與泰國女子假結婚，陳益昌等5人均獲取5至7萬元報酬等情，經本院以95年度簡上字第330號判處有期徒刑7月確定，另共犯詹巧薇於92年間，因與共犯張晉源等人共同仲介臺灣人民莊國寶、林世欽、蔡明峰等3人擔任人頭老公與泰國女子假結婚等情，經本院以99年度簡字第1313號判處有期徒刑4月並減為有期徒刑2月確定，又共犯林清水、詹巧薇因本案被告與共犯陳玉婉辦理假結婚致涉嫌共同行使使公務員登載不實文書犯行部分，經臺灣臺南地方法院檢察官認為與前開95年度簡上字第330號、99年度簡字第1313號論罪科刑部分有連續犯之裁判上一罪關係，故均以99年度偵字第17571、17771號、100年度偵字第4564號為不起訴處分確定，有前開判決書及不起訴處分書各1份在卷可按，堪認共犯林清水、詹巧薇、張晉源確曾仲介或安排臺灣男子前往泰國與泰國女子假結婚無訛。又被告與共犯林清水並無任何仇怨糾葛，被告尚提供一部機車予共犯林清水使用，衡諸常情，共犯林清水尚無隨意誣指構陷被告之動機，復衡以其於本院中具結後證述上情歷歷，核與其警詢中證述之情節大致相符，苟非親身經歷，尚均無圖陷被告入罪而自行擔負偽證罪責風險之必要，顯見其確係依憑當時親身見聞所為之證述，參以被告於93年4月26日將戶籍遷移寄放至共犯林清水籍設於臺南縣永康市○○路152號之住所，其戶籍遷入目的係為了便利結婚登記之辦理，被告亦依此戶籍地向臺南縣永康市戶政事務所辦理其與共犯陳玉婉之結婚登記等情，業據被告於本院審理時供承伊戶籍寄放於前開住址不諱，及共犯林清水於本院審理時具結證稱：被告將戶籍寄放於伊住所是為了辦理結婚，要拿證件辦理結婚登記比較方便等語（見本院卷第70頁），並有被告及共犯林清水之個人戶籍資料查詢結果各1份、結婚登記申請書1份在卷可佐，而前開95年度簡上字第330號案件中之人頭老公林哲銘亦由共犯林清水提供前開住所供其設籍，並依該戶籍地辦理結婚登記等情，亦據證人林哲銘於警詢時證述明確（見警二卷第19頁），並有證人林哲銘之結婚登記申請書1紙附卷可佐（見警二卷第46頁），益徵被告確係共犯林清水仲介之人頭老公的其中一人甚明。(三)綜上所述，被告與共犯陳玉婉確係假結婚無訛，是被告前開所辯，要屬卸責之詞，殊無可採。本案事證至臻明確，被告上開犯行堪以認定，應予依法論科。二、按被告行為後，刑法業於民國94年2月2日修正公布，並自95年7月1日施行。按行為後法律有變更者，適用行為時之法律，但行為後之法律有利於行為人者，適用最有利於行為人之法律，修正後刑法第2條第1項定有明文。該規定係規範行為後法律變更所生新舊法律比較適用之準據法，是刑法第2條本身雖經修正，尚無比較新舊法之問題，應一律適用裁判時之刑法第2條規定。次按本次刑法修正之新舊法比較，應就罪刑有關之共犯、未遂犯、想像競合犯、牽連犯、連續犯、結合犯、以及累犯加重、自首減輕暨其他法定加減原因（如身分加減）與加減例等一切情形，綜其全部罪刑之結果而為比較，有最高法院95年5月23日95年度第8次刑庭會議決議可資參照。經查：(一)依增訂之刑法施行法第1條之1：「中華民國94年1月7日刑法修正施行後，刑法分則編所定罰金之貨幣單位為新臺幣。94年1月7日刑法修正時，刑法分則編未修正之條文定有罰金者，自94年1月7日刑法修正施行後，就其所定數額提高為30倍。但72年6月26日至94年1月7日新增或修正之條文，就其所定數額提高為3倍。」，是比較修正後刑法施行法第1條之1第2項與罰金罰鍰提高標準條例第1條之結果，因兩者之罰金最高額度相同而無有利不利之情形，自無刑法第2條第1項之適用，應逕依現行有效且具特別法性質之刑法施行法第1條之1的規定。(二)刑法第33條第5款修正為：「主刑之種類如下：五、罰金：新臺幣1000元以上，以百元計算之。」，是依修正後之法律，刑法第335條第1項之侵占罪所得科處之罰金刑最低為新臺幣1000元，而另依修正前刑法第33條第5款及罰金罰鍰提高標準條例第1條前段規定，罰金最低額則為銀元1元折算為新臺幣3元，故比較新舊法之結果，自以修正前刑法第33條第5款規定較有利於被告。(三)刑法第28條修正前規定為：「2人以上共同實施犯罪之行為者，皆為正犯。」，而修正後規定為：「2人以上共同實行犯罪之行為者，皆為正犯。」，是依修正後之規定係將共同正犯限於直接從事構成犯罪事實之行為者，而排除陰謀共同正犯及預謀共同正犯之類型，故修正後共同正犯之可罰性要件之範圍業已限縮。惟本件被告既係直接從事構成犯罪事實之行為，則比較修正前後規定之結果，並無有利或不利之情形，應逕依修正後規定。(四)刑法第56條連續犯之規定於刑法修正後業經刪除，是新法修正施行後，行為人之數犯罪行為便須分論併罰。是該項刪除雖非犯罪構成要件之變更，但已影響行為人刑罰之法律效果，自屬法律有所變更而有比較新舊法之必要。若依舊法之規定，以一罪論而僅加重其刑至2分之1，但若依新法則須分科併罰，經比較之結果，自以修正前刑法第56條對被告較為有利。(五)綜上，本院綜合被告所涉上揭全部罪行之一切情形而為比較，揆諸前揭最高法院決議及刑法第2條第1項前段規定，被告適用行為時即修正前刑法之相關規定，對其較為有利，自應一體適用修正前刑法規定予以處斷。三、論罪科刑：(一)核被告所為，係犯刑法第216條、第214條之行使使公務員登載不實文書罪。被告與共犯林清水、詹巧薇、張晉源等人就上揭犯行，彼此間有犯意聯絡及行為分擔，為共同正犯。被告使公務員登載不實事項於其所掌公文書之低度行為，為行使之高度行為所吸收，不另論罪。被告於93年5月19日、93年6月14日及94年5月5日先後多次行使使公務員登載不實文書之犯行，時間密接，所犯係構成要件相同之罪名，顯係基於概括犯意反覆為之，為連續犯，應依修正前刑法第56條規定論以一罪，並加重其刑。(二)爰審酌被告為圖私利，竟藉由假結婚之方式便利共犯陳玉婉入境居留，損害戶政機關結婚登記及主管機關對於外國人居留管理之正確性，對社會秩序、善良風俗及警政機關對治安之管理均非無潛在之危害，復參酌被告犯後自始否認犯行，未見悔意，及其智識程度、生活狀況等一切情狀，量處如主文所示之刑，以資懲儆。另被告行為後，關於易科罰金之折算標準，依修正前刑法第41條第1項前段及廢止前罰金罰鍰提高標準條例第2條，係以銀元1百元、2百元或3百元，即新臺幣3百元、6百元或9百元折算1日，而依修正後刑法第41條第1項前段規定，則係以新臺幣1千元、2千元或3千元折算1日，故依刑法第2條第1項前段之規定來比較新舊法之結果，應適用修正前之規定較為有利，爰依修正前刑法第41條第1項前段及廢止前罰金罰鍰提高標準條例第2條諭知易科罰金之折算標準。又被告之犯罪時間係在96年4月24日以前，所犯合於中華民國九十六年罪犯減刑條例之減刑條件，應依該條例第2條第1項第3款、第7條及第9條，減其宣告刑2分之1，並諭知易科罰金之折算標準。四、末按連續數行為而犯同一之罪名，均在新法施行前者，新法施行後，應依新法第2條第1項之規定，適用最有利於行為人之法律。部分之數行為，發生在新法施行前者，新法施行後，該部分適用最有利於行為人之法律。若其中部分之一行為或數行為，發生在新法施行後者，該部分不能論以連續犯（最高法院95年度第8次刑事庭會議決議參照，即該決議五數罪併罰之(四)連續犯部分）。查被告涉嫌於96年5月28日及96年9月3日與共犯陳玉婉共同持前開登載不實之戶籍謄本等資料，先後向臺南縣政府警察局外事課申請核發陳玉婉之延期居留等事宜，有96年5月28日及96年9月3日之外國人居留停留案件申請表各1份附卷可憑，被告此部分涉嫌共同行使使公務員登載不實文書犯行，均在95年7月1日刑法修正廢除第56條連續犯規定以後，亦未據檢察官記載於起訴書犯罪事實內，揆諸前開說明，此部分犯行與前開論罪科刑部份無連續犯之裁判上一罪關係，自非本院得審判之範圍，附此敘明之。據上論斷，應依刑事訴訟法第299條第1項前段，刑法第2條第1項前段、第28條、第216條、第214條，修正前刑法第56條、第41條第1項前段，刑法施行法第1條之1，修正廢止前罰金罰鍰提高標準條例第2條，中華民國96年罪犯減刑條例第2條第1項第3款、第7條、第9條，判決如主文。本案經檢察官莊玲如到庭執行職務。中華民國101年1月20日刑事第四庭審判長法官林逸梅法官鄭文祺法官莊政達以上正本證明與原本無異。如不服本判決應於收受本判後10日內向本院提出上訴書狀，並應敘述具體理由。其未敘述上訴理由者，應於上訴期間屆滿後20日內向本院補提理由書狀（均須按他造當事人之人數附繕本）「切勿逕送上級法院」。書記官吳昕韋中華民國101年2月1日附錄本案論罪科刑法條：中華民國刑法第214條（使公務員登載不實罪）明知為不實之事項，而使公務員登載於職務上所掌之公文書，足以生損害於公眾或他人者，處3年以下有期徒刑、拘役或5百元以下罰金。中華民國刑法第216條（行使偽造變造或登載不實之文書罪）行使第210條至第215條之文書者，依偽造、變造文書或登載不實事項或使登載不實事項之規定處斷。',\n",
       " 'scenario_with_example': ' 1. 情節摘要：2. 被告陳泰龍涉嫌與泰國籍女子陳玉婉（泰國名字為JARUWANWONGPRATOOM）假結婚，以便陳玉龍取得來臺居留權。然而，陳玉龍否認犯罪，並表示他以為自己在泰國辦理假結婚是為了賺取報酬。3. 被告陳泰龍、陳玉婉共同犯罪，意圖為自己不法所有，並行使偽造私文書。4. 被告陳泰龍、陳玉婉共同偽造戶籍謄本等文件，使相關機關人員陷於錯誤，核發居留證。5. 被告陳泰龍、陳玉婉共同偽造戶籍謄本等文件，使相關機關人員陷於錯誤，核發居留證延期。6. 被告陳泰龍、陳玉婉共同偽造戶籍謄本等文件，使相關機關人員陷於錯誤，核發居留證延期。7. 被告陳泰龍、陳玉婉共同偽造戶籍謄本等文件，使相關機關人員陷於錯誤，核發居留證延期。8. 被告陳泰龍、陳玉婉共同偽造戶籍謄本等文件，使相關機關人員陷於錯誤，核發居留證延期。9. 被告陳泰龍、陳玉婉共同偽造戶籍謄本等文件，使相關機關人員陷於錯誤，核發居留證延期。10. 被告陳泰龍、陳玉婉共同偽造戶籍謄本等文件，使相關機關人員陷於錯誤，核發居留證延期。11. 被告陳泰龍、陳玉婉共同偽造戶籍謄本等文件，使相關機關人員陷於錯誤，核發居留證延期。12. 被告陳泰龍、陳玉婉共同偽造戶籍謄本等文件，使相關機關人員陷於錯誤，核發居留證延期。13. 被告陳泰龍、陳玉婉共同偽造戶籍謄本等文件，使相關機關人員陷於錯誤，核發居留證延期。14. 被告陳泰龍、陳玉婉共同偽造戶籍謄本等文件，使相關機關人員陷於錯誤，核發居留證延期。15. 被告陳泰龍、陳玉婉共同偽造戶籍謄本等文件，使相關機關人員陷於錯誤，核發居留證延期。16. 被告陳泰龍、陳玉婉共同偽造戶籍謄本等文件，使相關機關人員陷於錯誤，核發居留證延期。17. 被告陳泰龍、陳玉婉共同偽造戶籍謄本等文件，使相關機關人員陷於錯誤，核發居留證延期。18. 被告陳泰龍、陳玉婉共同偽造戶籍謄本等文件，使相關機關人員陷於錯誤，核發居留證延期。19. 被告陳泰龍、陳玉婉共同偽造戶籍謄本等文件，使相關機關人員陷於錯誤，核發居留證延期。20. 被告陳泰龍、陳玉婉共同偽造戶籍謄本等文件，使相關機關人員陷於錯誤，核發居留證延期。21. 被告陳泰龍、陳玉婉共同偽造戶籍謄本等文件，使相關機關人員陷於錯誤，核發居留證延期。22. 被告陳泰龍、陳玉婉共同偽造戶籍謄本等文件，使相關機關人員陷於錯誤，核發居留證延期。23. 被告陳泰龍、陳玉婉共同偽造戶籍謄本等文件，使相關機關人員陷於錯誤，核發居留證延期。24. 被告陳泰龍、陳玉婉共同偽造戶籍謄本等文件，使相關機關人員陷於錯誤，核發居留證延期。25. 被告陳泰龍、陳玉婉共同偽造戶籍謄本等文件，使相關機關人員陷於錯誤，核發居留證延期。26. 被告陳泰龍、陳玉婉共同偽造戶籍謄本等文件，使相關機關人員陷於錯誤，核發居留證延期。27. 被告陳泰龍、陳玉婉共同偽造戶籍謄本等文件，使相關機關人員陷於錯誤，核發居留證延期。28. 被告陳泰龍、陳玉婉共同偽造戶籍謄本等文件，使相關機關人員陷於錯誤，核發居留證延期。29. 被告陳泰龍、陳玉婉共同偽造戶籍謄本等文件，使相關機關人員陷於錯誤，核發居留證延期。30. 被告陳泰龍、陳玉婉共同偽造戶籍謄本等文件，使',\n",
       " 'scenario_without_example': ' 以下為情節摘要：被告陳泰龍明知與泰國籍女子陳玉婉（泰國名字為JARUWANWONGPRATOOM）間並無結婚之真意，欲以假結婚之方式申請來臺居留工作，遂與林清水、詹巧薇、張晉源等人共同基於行使使公務員登載不實公文書之概括犯意聯絡，先由陳泰龍依指示於民國93年4月3日前往泰國，並於同年月7日與陳玉婉在泰國曼谷市法拉坎農區註冊辦事處登記結婚，取得上開註冊辦事處核發之結婚登記書、結婚證書等文件後，陳泰龍即行返臺，並於同年5月19日持經我國駐泰國臺北經濟文化辦事處認證之上開結婚登記書、結婚證書等資料，至臺南縣永康市戶政事務所填寫結婚登記申請書，申請辦理其與陳玉婉之結婚登記，因此使上開戶政事務所僅有形式審查權之承辦公務員陷於錯誤，於形式上審核後，將陳泰龍與陳玉婉於93年4月7日結婚之不實事項，登載於其職務上所掌屬公文書之戶籍登記資料內，並據以核發戶籍謄本，而足以生損害於戶政機關對於戶政管理及戶籍登記資料維護之正確性。迨陳玉婉來臺後，為取得居留身分，再由陳泰龍、陳玉婉承前概括之犯意聯絡，於同年6月14日及94年5月5日，均持前開登載不實之戶籍謄本等資料，先後向臺南縣政府警察局外事課申請核發陳玉婉之外僑居留證及申請居留證延期而連續行使之（業經檢察官當庭補充），經承辦人員實質審查結果，均未發覺陳玉龍與陳玉婉假結婚之實情，而發給陳玉婉居留證或核准延期，各足以生損害於主管機關對外僑居留管理之正確性。'}"
      ]
     },
     "execution_count": 15,
     "metadata": {},
     "output_type": "execute_result"
    }
   ],
   "source": [
    "print(len(breeze_scenario))\n",
    "col = list(breeze_scenario[0].keys())\n",
    "print(col)\n",
    "breeze_scenario[0]"
   ]
  },
  {
   "cell_type": "code",
   "execution_count": 16,
   "metadata": {},
   "outputs": [
    {
     "name": "stdout",
     "output_type": "stream",
     "text": [
      "50\n",
      "['judgement', 'fact_summary', 'with_example', 'without_example']\n"
     ]
    },
    {
     "data": {
      "text/plain": [
       "{'judgement': '一、陳泰龍明知其與泰國籍女子陳玉婉（泰國名字為JARUWANWONGPRATOOM，陳玉婉涉嫌本案偽造文書部分，另經臺灣臺南地方法院檢察署檢察官通緝中）間並無結婚之真意，然因詹巧薇、張晉源等人欲找臺灣男子前往泰國與泰國女子辦理假結婚，林清水負責介紹臺灣男子予詹巧薇、張晉源等人以賺取新臺幣（下同）1萬元之仲介費，適陳泰龍依林清水於報紙上刊登之徵人廣告應徵時，由林清水告知泰國女子欲以假結婚之方式申請來臺居留工作，其若擔任假結婚之人頭老公，除不用負擔前往泰國之食宿、機票費用外，尚可獲取5、6萬元之報酬，迨陳泰龍應允同意後，林清水將其轉介紹予詹巧薇、張晉源等人，陳泰龍遂與林清水、詹巧薇、張晉源等人共同基於行使使公務員登載不實公文書之概括犯意聯絡，先由陳泰龍依指示於民國93年4月3日前往泰國，並於同年月7日與陳玉婉在泰國曼谷市法拉坎農區註冊辦事處登記結婚，取得上開註冊辦事處核發之結婚登記書、結婚證書等文件後，陳泰龍即行返臺，並於同年5月19日持經我國駐泰國臺北經濟文化辦事處認證之上開結婚登記書、結婚證書等資料，至臺南縣永康市（改制前稱謂，以下沿用舊制稱謂）戶政事務所填寫結婚登記申請書，申請辦理其與陳玉婉之結婚登記，因此使上開戶政事務所僅有形式審查權之承辦公務員陷於錯誤，於形式上審核後，將陳泰龍與陳玉婉於93年4月7日結婚之不實事項，登載於其職務上所掌屬公文書之戶籍登記資料內，並據以核發戶籍謄本，而足以生損害於戶政機關對於戶政管理及戶籍登記資料維護之正確性。迨陳玉婉來臺後，為取得居留身分，再由陳泰龍、陳玉婉承前概括之犯意聯絡，於同年6月14日及94年5月5日，均持前開登載不實之戶籍謄本等資料，先後向臺南縣政府警察局外事課申請核發陳玉婉之外僑居留證及申請居留證延期而連續行使之（業經檢察官當庭補充），經承辦人員實質審查結果，均未發覺陳泰龍與陳玉婉假結婚之實情，而發給陳玉婉居留證或核准延期，各足以生損害於主管機關對外僑居留管理之正確性。二、案經臺南市警察局（現改制為臺南市政府警察局，以下沿用舊制稱謂）第一分局報告臺灣臺南地方法院檢察署檢察官偵查起訴。理由甲、程序方面：一、本件以下所引用具傳聞證據性質之供述證據，因本件被告陳泰龍、檢察官等人於本院準備程序進行時，均未爭執前開陳述之證據能力，且迄至本案言詞辯論終結前亦均未聲明異議，應視為已同意援引作為證據，又本院審酌前開證據作成時之情況及證據取得過程等節，並無非出於任意性、不正取供或其他違法不當情事，且客觀上亦無顯不可信之情況，堪認為適當，是依刑事訴訟法第159條之5規定，均有證據能力。二、卷附之被告及陳玉婉入出國日期紀錄各1份等書證，均非屬供述證據，皆無傳聞法則之適用，復均無違反法定程序取得之情形，依刑事訴訟法第158條之4規定之反面解釋，均應有證據能力。乙、實體方面：一、訊據被告固坦承於上開時、地，透過共犯林清水之介紹，先至泰國辦理與共犯陳玉婉之結婚手續，再前往臺南縣永康市戶政事務所辦理結婚登記，又前往臺南縣政府警察局外事課辦理共犯陳玉婉之外僑居留證及申請居留證延期之事實，惟矢口否認有何行使使公務員登載不實文書情事，於本院審理時辯稱：伊當時經濟狀況良好，因同居女友欲去日本工作而不願結婚，然伊希望結婚生子，遂透過共犯林清水之介紹與安排，共犯林清水先讓伊看過共犯陳玉婉之照片，伊再前往泰國與共犯陳玉婉結婚，伊僅負擔自己的來回機票錢及泰國住宿費用，其他結婚費用均由共犯林清水負擔，伊則贈送伊的一部機車予共犯林清水以為回報，伊並不認識共犯詹巧薇云云。經查：(一)被告於93年4月3日前往泰國，並於同年月7日與共犯陳玉婉在泰國曼谷市法拉坎農區註冊辦事處登記結婚，取得上開註冊辦事處核發之結婚登記書、結婚證書等文件後，被告即行返臺，並於同年5月19日持經我國駐泰國臺北經濟文化辦事處認證之上開結婚登記書、結婚證書等資料，至臺南縣永康市戶政事務所填寫結婚登記申請書，申請辦理其與共犯陳玉婉之結婚登記，並取得戶籍謄本。迨共犯陳玉婉來臺後，為取得居留身分，被告與共犯陳玉婉於同年6月14日及94年5月5日，均持前開戶籍謄本等資料，先後向臺南縣政府警察局外事課申請核發共犯陳玉婉之外僑居留證及申請居留證延期等情，業據被告供承在卷，並有結婚登記申請書、授權書各1份、結婚登記書、結婚證書各1份（含中文、泰文影本及我國駐泰國臺北經濟文化辦事處認證之資料）、93年6月14日及94年5月5日之外國人居留停留案件聲請表各1份、被告及共犯陳玉婉之入出國日期紀錄各1份、共犯陳玉婉之外僑居留資料查詢1份在卷可按（見警三卷即南市警一刑偵字第0994101517號卷第6至24、33頁）。上開事實，首堪認定。(二)共犯詹巧薇、張晉源等人當時欲找臺灣人與泰國女子結婚，由共犯林清水於報紙上刊登徵人廣告，若應徵者符合與泰國人結婚之條件，便將應徵者介紹予共犯詹巧薇、張晉源等人，共犯林清水可從中獲取1萬元之仲介費，適被告依前開徵人廣告應徵，共犯林清水衡量其條件後告知其可至泰國結婚，其除不用負擔前往泰國之機票及食宿費用外，尚可獲取5至6萬元之報酬，被告應允同意後，共犯林清水將其介紹予詹巧薇、張晉源等人，被告即依指示前往泰國與為了來臺工作且無結婚真意的共犯陳玉婉辦理結婚事宜等情，業據共犯林清水於警詢時證稱：伊登報徵人到泰國結婚，被告看報紙來的，伊便轉介予共犯詹巧薇，由共犯詹巧薇安排後續到泰國結婚之事宜，被告除不用負擔前往泰國機票、食宿等費用，尚可獲取約5至6萬元酬勞，伊則可自共犯詹巧薇獲取約1萬元之仲介費用；伊只有將被告轉介予共犯詹巧薇，並未參與後續被告前往泰國之證照、機票、食宿等相關事宜；被告係因缺錢，為了賺取擔任人頭配偶的佣金5至6萬，並不是真的要與泰國人結婚，共犯陳玉婉係為了來臺灣工作賺錢，亦不是真的要與臺灣人結婚等語（見警三卷第2至3頁）；並於本院審理時具結證稱：當初共犯詹巧薇、張晉源等人欲找男子前往泰國結婚，伊曾刊登「男、女不限、經驗不拘」等內容之徵人廣告，被告見報應徵時，被告係因缺錢才來找伊，伊衡量被告條件後認為其只能利用結婚賺取報酬，伊才向其表示是要辦結婚，伊告知被告可安排其去泰國結婚，其不用負擔食宿及機票等費用，可實拿5至6萬元的報酬，被告同意後，伊將被告介紹予共犯詹巧薇、張晉源，共犯張晉源給付佣金1萬元予伊；伊與被告談論泰國結婚事宜時，伊與被告均不知被告之結婚對象為何人，伊亦未見過與被告結婚之泰國女子，伊僅介紹被告予共犯詹巧薇、張晉源等人，伊並未參予後續之泰國結婚、辦理結婚登記及居留申請等事情；被告曾給伊一部機車，當時被告表示要去別的地方，機車留在臺南無人使用，伊修理使用一段期間後，因再度壞掉便未再使用等語（見本院卷第68頁背面至71頁）。而共犯林清水於93、94年間，因仲介臺灣人民陳益昌、林哲銘、廖震南、陳朝榮、王照明等5人擔任人頭老公與泰國女子假結婚，陳益昌等5人均獲取5至7萬元報酬等情，經本院以95年度簡上字第330號判處有期徒刑7月確定，另共犯詹巧薇於92年間，因與共犯張晉源等人共同仲介臺灣人民莊國寶、林世欽、蔡明峰等3人擔任人頭老公與泰國女子假結婚等情，經本院以99年度簡字第1313號判處有期徒刑4月並減為有期徒刑2月確定，又共犯林清水、詹巧薇因本案被告與共犯陳玉婉辦理假結婚致涉嫌共同行使使公務員登載不實文書犯行部分，經臺灣臺南地方法院檢察官認為與前開95年度簡上字第330號、99年度簡字第1313號論罪科刑部分有連續犯之裁判上一罪關係，故均以99年度偵字第17571、17771號、100年度偵字第4564號為不起訴處分確定，有前開判決書及不起訴處分書各1份在卷可按，堪認共犯林清水、詹巧薇、張晉源確曾仲介或安排臺灣男子前往泰國與泰國女子假結婚無訛。又被告與共犯林清水並無任何仇怨糾葛，被告尚提供一部機車予共犯林清水使用，衡諸常情，共犯林清水尚無隨意誣指構陷被告之動機，復衡以其於本院中具結後證述上情歷歷，核與其警詢中證述之情節大致相符，苟非親身經歷，尚均無圖陷被告入罪而自行擔負偽證罪責風險之必要，顯見其確係依憑當時親身見聞所為之證述，參以被告於93年4月26日將戶籍遷移寄放至共犯林清水籍設於臺南縣永康市○○路152號之住所，其戶籍遷入目的係為了便利結婚登記之辦理，被告亦依此戶籍地向臺南縣永康市戶政事務所辦理其與共犯陳玉婉之結婚登記等情，業據被告於本院審理時供承伊戶籍寄放於前開住址不諱，及共犯林清水於本院審理時具結證稱：被告將戶籍寄放於伊住所是為了辦理結婚，要拿證件辦理結婚登記比較方便等語（見本院卷第70頁），並有被告及共犯林清水之個人戶籍資料查詢結果各1份、結婚登記申請書1份在卷可佐，而前開95年度簡上字第330號案件中之人頭老公林哲銘亦由共犯林清水提供前開住所供其設籍，並依該戶籍地辦理結婚登記等情，亦據證人林哲銘於警詢時證述明確（見警二卷第19頁），並有證人林哲銘之結婚登記申請書1紙附卷可佐（見警二卷第46頁），益徵被告確係共犯林清水仲介之人頭老公的其中一人甚明。(三)綜上所述，被告與共犯陳玉婉確係假結婚無訛，是被告前開所辯，要屬卸責之詞，殊無可採。本案事證至臻明確，被告上開犯行堪以認定，應予依法論科。二、按被告行為後，刑法業於民國94年2月2日修正公布，並自95年7月1日施行。按行為後法律有變更者，適用行為時之法律，但行為後之法律有利於行為人者，適用最有利於行為人之法律，修正後刑法第2條第1項定有明文。該規定係規範行為後法律變更所生新舊法律比較適用之準據法，是刑法第2條本身雖經修正，尚無比較新舊法之問題，應一律適用裁判時之刑法第2條規定。次按本次刑法修正之新舊法比較，應就罪刑有關之共犯、未遂犯、想像競合犯、牽連犯、連續犯、結合犯、以及累犯加重、自首減輕暨其他法定加減原因（如身分加減）與加減例等一切情形，綜其全部罪刑之結果而為比較，有最高法院95年5月23日95年度第8次刑庭會議決議可資參照。經查：(一)依增訂之刑法施行法第1條之1：「中華民國94年1月7日刑法修正施行後，刑法分則編所定罰金之貨幣單位為新臺幣。94年1月7日刑法修正時，刑法分則編未修正之條文定有罰金者，自94年1月7日刑法修正施行後，就其所定數額提高為30倍。但72年6月26日至94年1月7日新增或修正之條文，就其所定數額提高為3倍。」，是比較修正後刑法施行法第1條之1第2項與罰金罰鍰提高標準條例第1條之結果，因兩者之罰金最高額度相同而無有利不利之情形，自無刑法第2條第1項之適用，應逕依現行有效且具特別法性質之刑法施行法第1條之1的規定。(二)刑法第33條第5款修正為：「主刑之種類如下：五、罰金：新臺幣1000元以上，以百元計算之。」，是依修正後之法律，刑法第335條第1項之侵占罪所得科處之罰金刑最低為新臺幣1000元，而另依修正前刑法第33條第5款及罰金罰鍰提高標準條例第1條前段規定，罰金最低額則為銀元1元折算為新臺幣3元，故比較新舊法之結果，自以修正前刑法第33條第5款規定較有利於被告。(三)刑法第28條修正前規定為：「2人以上共同實施犯罪之行為者，皆為正犯。」，而修正後規定為：「2人以上共同實行犯罪之行為者，皆為正犯。」，是依修正後之規定係將共同正犯限於直接從事構成犯罪事實之行為者，而排除陰謀共同正犯及預謀共同正犯之類型，故修正後共同正犯之可罰性要件之範圍業已限縮。惟本件被告既係直接從事構成犯罪事實之行為，則比較修正前後規定之結果，並無有利或不利之情形，應逕依修正後規定。(四)刑法第56條連續犯之規定於刑法修正後業經刪除，是新法修正施行後，行為人之數犯罪行為便須分論併罰。是該項刪除雖非犯罪構成要件之變更，但已影響行為人刑罰之法律效果，自屬法律有所變更而有比較新舊法之必要。若依舊法之規定，以一罪論而僅加重其刑至2分之1，但若依新法則須分科併罰，經比較之結果，自以修正前刑法第56條對被告較為有利。(五)綜上，本院綜合被告所涉上揭全部罪行之一切情形而為比較，揆諸前揭最高法院決議及刑法第2條第1項前段規定，被告適用行為時即修正前刑法之相關規定，對其較為有利，自應一體適用修正前刑法規定予以處斷。三、論罪科刑：(一)核被告所為，係犯刑法第216條、第214條之行使使公務員登載不實文書罪。被告與共犯林清水、詹巧薇、張晉源等人就上揭犯行，彼此間有犯意聯絡及行為分擔，為共同正犯。被告使公務員登載不實事項於其所掌公文書之低度行為，為行使之高度行為所吸收，不另論罪。被告於93年5月19日、93年6月14日及94年5月5日先後多次行使使公務員登載不實文書之犯行，時間密接，所犯係構成要件相同之罪名，顯係基於概括犯意反覆為之，為連續犯，應依修正前刑法第56條規定論以一罪，並加重其刑。(二)爰審酌被告為圖私利，竟藉由假結婚之方式便利共犯陳玉婉入境居留，損害戶政機關結婚登記及主管機關對於外國人居留管理之正確性，對社會秩序、善良風俗及警政機關對治安之管理均非無潛在之危害，復參酌被告犯後自始否認犯行，未見悔意，及其智識程度、生活狀況等一切情狀，量處如主文所示之刑，以資懲儆。另被告行為後，關於易科罰金之折算標準，依修正前刑法第41條第1項前段及廢止前罰金罰鍰提高標準條例第2條，係以銀元1百元、2百元或3百元，即新臺幣3百元、6百元或9百元折算1日，而依修正後刑法第41條第1項前段規定，則係以新臺幣1千元、2千元或3千元折算1日，故依刑法第2條第1項前段之規定來比較新舊法之結果，應適用修正前之規定較為有利，爰依修正前刑法第41條第1項前段及廢止前罰金罰鍰提高標準條例第2條諭知易科罰金之折算標準。又被告之犯罪時間係在96年4月24日以前，所犯合於中華民國九十六年罪犯減刑條例之減刑條件，應依該條例第2條第1項第3款、第7條及第9條，減其宣告刑2分之1，並諭知易科罰金之折算標準。四、末按連續數行為而犯同一之罪名，均在新法施行前者，新法施行後，應依新法第2條第1項之規定，適用最有利於行為人之法律。部分之數行為，發生在新法施行前者，新法施行後，該部分適用最有利於行為人之法律。若其中部分之一行為或數行為，發生在新法施行後者，該部分不能論以連續犯（最高法院95年度第8次刑事庭會議決議參照，即該決議五數罪併罰之(四)連續犯部分）。查被告涉嫌於96年5月28日及96年9月3日與共犯陳玉婉共同持前開登載不實之戶籍謄本等資料，先後向臺南縣政府警察局外事課申請核發陳玉婉之延期居留等事宜，有96年5月28日及96年9月3日之外國人居留停留案件申請表各1份附卷可憑，被告此部分涉嫌共同行使使公務員登載不實文書犯行，均在95年7月1日刑法修正廢除第56條連續犯規定以後，亦未據檢察官記載於起訴書犯罪事實內，揆諸前開說明，此部分犯行與前開論罪科刑部份無連續犯之裁判上一罪關係，自非本院得審判之範圍，附此敘明之。據上論斷，應依刑事訴訟法第299條第1項前段，刑法第2條第1項前段、第28條、第216條、第214條，修正前刑法第56條、第41條第1項前段，刑法施行法第1條之1，修正廢止前罰金罰鍰提高標準條例第2條，中華民國96年罪犯減刑條例第2條第1項第3款、第7條、第9條，判決如主文。本案經檢察官莊玲如到庭執行職務。中華民國101年1月20日刑事第四庭審判長法官林逸梅法官鄭文祺法官莊政達以上正本證明與原本無異。如不服本判決應於收受本判後10日內向本院提出上訴書狀，並應敘述具體理由。其未敘述上訴理由者，應於上訴期間屆滿後20日內向本院補提理由書狀（均須按他造當事人之人數附繕本）「切勿逕送上級法院」。書記官吳昕韋中華民國101年2月1日附錄本案論罪科刑法條：中華民國刑法第214條（使公務員登載不實罪）明知為不實之事項，而使公務員登載於職務上所掌之公文書，足以生損害於公眾或他人者，處3年以下有期徒刑、拘役或5百元以下罰金。中華民國刑法第216條（行使偽造變造或登載不實之文書罪）行使第210條至第215條之文書者，依偽造、變造文書或登載不實事項或使登載不實事項之規定處斷。',\n",
       " 'fact_summary': ' 判決書摘要：\\n被告陳泰龍明知與泰國籍女子陳玉婉（泰國名字為JARUWANWONGPRATOOM）間並無結婚之真意，仍與林清水、詹巧薇、張晉源等人共同基於行使使公務員登載不實公文書之概括犯意聯絡，辦理假結婚。被告依林清水於報紙上刊登之徵人廣告應徵，由林清水告知泰國女子欲以假結婚之方式申請來臺居留工作，其若擔任假結婚之人頭老公，除不用負擔前往泰國之食宿、機票費用外，尚可獲取5、6萬元之報酬。被告與林清水、詹巧薇、張晉源等人共同辦理假結婚，使公務員陷於錯誤，登載不實事項於戶籍登記資料內，並核發戶籍謄本。被告與陳玉婉辦理假結婚後，陳玉婉來臺後，被告與陳玉婉共同持登載不實之戶籍謄本等資料，先後向臺南縣政府警察局外事課申請核發陳玉婉之外僑居留證及申請居留證延期，使主管機關對外僑居留管理之正確性受損。 事實摘要：\\n\\n蔡明峰、林清水、詹巧薇和張晉源涉嫌擔任人頭老公與泰國女子假結婚。蔡明峰因本案被告與共犯陳玉婉辦理假結婚，涉嫌共同行使使公務員登載不實文書，經臺灣臺南地方法院檢察官認為與前開95年度簡上字第330號、99年度簡字第1313號論罪科刑部分有連續犯之裁判上一罪關係，故均以99年度偵字第17571、17771號、100年度偵字第4564號為不起訴處分確定。被告與共犯林清水並無仇怨，被告提供一部機車予共犯林清水使用。被告與共犯陳玉婉確係假結婚，被告的辯解為卸責之詞。被告適用行為時即修正前刑法之相關規定，對其較為有利，自應一體適用修正前刑法規定予以處斷。被告於93年5月19日、93年6月14日及94年5月5日先後多次行使使公務員登載不實文書之犯行，時間密接，所犯係構成要件相同之罪名，顯係基於概括犯意反覆為之，為連續犯，應依修正前刑法第56條規定論以一罪。 事實摘要：被告涉嫌於96年5月28日及96年9月3日與共犯陳玉婉共同持登載不實之戶籍謄本等資料，先後向臺南縣政府警察局外事課申請核發陳玉婉之延期居留等事宜。被告涉嫌共同行使使公務員登載不實文書犯行，均在95年7月1日刑法修正廢除第56條連續犯規定以後，未記載於起訴書犯罪事實內。由於此部分犯行在刑法修正後，未構成連續犯，故非本院得審判之範圍。',\n",
       " 'with_example': ' 被告陳泰龍與泰國籍女子陳玉婉（JARUWANWONGPRATOOM）共同辦理假結婚，以取得陳玉婉來臺居留工作。被告等人明知無結婚真意，仍辦理假結婚並持偽造的戶籍謄本等資料，向臺南縣政府警察局外事課申請核發陳玉婉的外僑居留證及延期居留。被告與共犯林清水、詹巧薇、張晉源等人共同行使使公務員登載不實公文書，導致主管機關對外僑居留管理的正確性受損。被告於93年5月19日、93年6月14日及94年5月5日多次行使使公務員登載不實文書之犯行，時間密接，所犯係構成要件相同之罪名，為連續犯，應依修正前刑法規定論以一罪。',\n",
       " 'without_example': ' 判決書摘要：被告陳泰龍與泰國籍女子陳玉婉（JARUWANWONGPRATOOM）共同辦理假結婚，以取得陳玉婉來臺居留工作。被告等人透過徵人廣告應徵，並獲得報酬。被告與陳玉婉共同持登載不實之戶籍謄本等資料，向臺南縣政府警察局外事課申請核發陳玉婉之外僑居留證及延期居留。被告涉嫌於96年5月28日及96年9月3日共同行使使公務員登載不實文書犯行，但由於刑法修正後未構成連續犯，故非本院得審判之範圍。被告依行為時修正前刑法之規定，適用較為有利，被告於93年5月19日、93年6月14日及94年5月5日先後多次行使使公務員登載不實文書之犯行，時間密接，所犯係構成要件相同之罪名，顯係基於概括犯意反覆為之，應依修正前刑法第56條規定論以一罪。'}"
      ]
     },
     "execution_count": 16,
     "metadata": {},
     "output_type": "execute_result"
    }
   ],
   "source": [
    "print(len(breeze_summary_scenario))\n",
    "col = list(breeze_summary_scenario[0].keys())\n",
    "print(col)\n",
    "breeze_summary_scenario[0]"
   ]
  },
  {
   "cell_type": "code",
   "execution_count": 11,
   "metadata": {},
   "outputs": [],
   "source": [
    "data = []\n",
    "\n",
    "for idx in range(len(gpt_scenario)):\n",
    "    judgement = gpt_scenario[idx][\"judgement\"]\n",
    "    length = len(judgement)\n",
    "    gpt = gpt_scenario[idx][\"summary\"]\n",
    "    breeze1 = breeze_scenario[idx][\"scenario_with_example\"]\n",
    "    breeze2 = breeze_summary_scenario[idx][\"with_example\"]\n",
    "\n",
    "    data.append({\n",
    "        \"judgement\": judgement,\n",
    "        \"length\": length,\n",
    "        \"gpt\": gpt,\n",
    "        \"breeze1\": breeze1,\n",
    "        \"breeze2\": breeze2\n",
    "    })\n",
    "\n",
    "with open(\"experiment1/scenario_merge.json\", \"w\", encoding=\"utf-8\") as j:\n",
    "    json.dump(data, j, ensure_ascii=False, indent=4)"
   ]
  },
  {
   "cell_type": "markdown",
   "metadata": {},
   "source": [
    "### 評估摘要結果\n",
    "* (答)GPT摘要：origin fact -> (GPT) -> scenario\n",
    "* Breeze摘要：origin fact -> (Breeze) -> scenario\n",
    "* Breeze壓縮+摘要：origin fact -> (Breeze) -> summary fact -> (Breeze) -> scenario"
   ]
  },
  {
   "cell_type": "code",
   "execution_count": 7,
   "metadata": {},
   "outputs": [
    {
     "data": {
      "text/plain": [
       "{'judgement': '一、陳泰龍明知其與泰國籍女子陳玉婉（泰國名字為JARUWANWONGPRATOOM，陳玉婉涉嫌本案偽造文書部分，另經臺灣臺南地方法院檢察署檢察官通緝中）間並無結婚之真意，然因詹巧薇、張晉源等人欲找臺灣男子前往泰國與泰國女子辦理假結婚，林清水負責介紹臺灣男子予詹巧薇、張晉源等人以賺取新臺幣（下同）1萬元之仲介費，適陳泰龍依林清水於報紙上刊登之徵人廣告應徵時，由林清水告知泰國女子欲以假結婚之方式申請來臺居留工作，其若擔任假結婚之人頭老公，除不用負擔前往泰國之食宿、機票費用外，尚可獲取5、6萬元之報酬，迨陳泰龍應允同意後，林清水將其轉介紹予詹巧薇、張晉源等人，陳泰龍遂與林清水、詹巧薇、張晉源等人共同基於行使使公務員登載不實公文書之概括犯意聯絡，先由陳泰龍依指示於民國93年4月3日前往泰國，並於同年月7日與陳玉婉在泰國曼谷市法拉坎農區註冊辦事處登記結婚，取得上開註冊辦事處核發之結婚登記書、結婚證書等文件後，陳泰龍即行返臺，並於同年5月19日持經我國駐泰國臺北經濟文化辦事處認證之上開結婚登記書、結婚證書等資料，至臺南縣永康市（改制前稱謂，以下沿用舊制稱謂）戶政事務所填寫結婚登記申請書，申請辦理其與陳玉婉之結婚登記，因此使上開戶政事務所僅有形式審查權之承辦公務員陷於錯誤，於形式上審核後，將陳泰龍與陳玉婉於93年4月7日結婚之不實事項，登載於其職務上所掌屬公文書之戶籍登記資料內，並據以核發戶籍謄本，而足以生損害於戶政機關對於戶政管理及戶籍登記資料維護之正確性。迨陳玉婉來臺後，為取得居留身分，再由陳泰龍、陳玉婉承前概括之犯意聯絡，於同年6月14日及94年5月5日，均持前開登載不實之戶籍謄本等資料，先後向臺南縣政府警察局外事課申請核發陳玉婉之外僑居留證及申請居留證延期而連續行使之（業經檢察官當庭補充），經承辦人員實質審查結果，均未發覺陳泰龍與陳玉婉假結婚之實情，而發給陳玉婉居留證或核准延期，各足以生損害於主管機關對外僑居留管理之正確性。二、案經臺南市警察局（現改制為臺南市政府警察局，以下沿用舊制稱謂）第一分局報告臺灣臺南地方法院檢察署檢察官偵查起訴。理由甲、程序方面：一、本件以下所引用具傳聞證據性質之供述證據，因本件被告陳泰龍、檢察官等人於本院準備程序進行時，均未爭執前開陳述之證據能力，且迄至本案言詞辯論終結前亦均未聲明異議，應視為已同意援引作為證據，又本院審酌前開證據作成時之情況及證據取得過程等節，並無非出於任意性、不正取供或其他違法不當情事，且客觀上亦無顯不可信之情況，堪認為適當，是依刑事訴訟法第159條之5規定，均有證據能力。二、卷附之被告及陳玉婉入出國日期紀錄各1份等書證，均非屬供述證據，皆無傳聞法則之適用，復均無違反法定程序取得之情形，依刑事訴訟法第158條之4規定之反面解釋，均應有證據能力。乙、實體方面：一、訊據被告固坦承於上開時、地，透過共犯林清水之介紹，先至泰國辦理與共犯陳玉婉之結婚手續，再前往臺南縣永康市戶政事務所辦理結婚登記，又前往臺南縣政府警察局外事課辦理共犯陳玉婉之外僑居留證及申請居留證延期之事實，惟矢口否認有何行使使公務員登載不實文書情事，於本院審理時辯稱：伊當時經濟狀況良好，因同居女友欲去日本工作而不願結婚，然伊希望結婚生子，遂透過共犯林清水之介紹與安排，共犯林清水先讓伊看過共犯陳玉婉之照片，伊再前往泰國與共犯陳玉婉結婚，伊僅負擔自己的來回機票錢及泰國住宿費用，其他結婚費用均由共犯林清水負擔，伊則贈送伊的一部機車予共犯林清水以為回報，伊並不認識共犯詹巧薇云云。經查：(一)被告於93年4月3日前往泰國，並於同年月7日與共犯陳玉婉在泰國曼谷市法拉坎農區註冊辦事處登記結婚，取得上開註冊辦事處核發之結婚登記書、結婚證書等文件後，被告即行返臺，並於同年5月19日持經我國駐泰國臺北經濟文化辦事處認證之上開結婚登記書、結婚證書等資料，至臺南縣永康市戶政事務所填寫結婚登記申請書，申請辦理其與共犯陳玉婉之結婚登記，並取得戶籍謄本。迨共犯陳玉婉來臺後，為取得居留身分，被告與共犯陳玉婉於同年6月14日及94年5月5日，均持前開戶籍謄本等資料，先後向臺南縣政府警察局外事課申請核發共犯陳玉婉之外僑居留證及申請居留證延期等情，業據被告供承在卷，並有結婚登記申請書、授權書各1份、結婚登記書、結婚證書各1份（含中文、泰文影本及我國駐泰國臺北經濟文化辦事處認證之資料）、93年6月14日及94年5月5日之外國人居留停留案件聲請表各1份、被告及共犯陳玉婉之入出國日期紀錄各1份、共犯陳玉婉之外僑居留資料查詢1份在卷可按（見警三卷即南市警一刑偵字第0994101517號卷第6至24、33頁）。上開事實，首堪認定。(二)共犯詹巧薇、張晉源等人當時欲找臺灣人與泰國女子結婚，由共犯林清水於報紙上刊登徵人廣告，若應徵者符合與泰國人結婚之條件，便將應徵者介紹予共犯詹巧薇、張晉源等人，共犯林清水可從中獲取1萬元之仲介費，適被告依前開徵人廣告應徵，共犯林清水衡量其條件後告知其可至泰國結婚，其除不用負擔前往泰國之機票及食宿費用外，尚可獲取5至6萬元之報酬，被告應允同意後，共犯林清水將其介紹予詹巧薇、張晉源等人，被告即依指示前往泰國與為了來臺工作且無結婚真意的共犯陳玉婉辦理結婚事宜等情，業據共犯林清水於警詢時證稱：伊登報徵人到泰國結婚，被告看報紙來的，伊便轉介予共犯詹巧薇，由共犯詹巧薇安排後續到泰國結婚之事宜，被告除不用負擔前往泰國機票、食宿等費用，尚可獲取約5至6萬元酬勞，伊則可自共犯詹巧薇獲取約1萬元之仲介費用；伊只有將被告轉介予共犯詹巧薇，並未參與後續被告前往泰國之證照、機票、食宿等相關事宜；被告係因缺錢，為了賺取擔任人頭配偶的佣金5至6萬，並不是真的要與泰國人結婚，共犯陳玉婉係為了來臺灣工作賺錢，亦不是真的要與臺灣人結婚等語（見警三卷第2至3頁）；並於本院審理時具結證稱：當初共犯詹巧薇、張晉源等人欲找男子前往泰國結婚，伊曾刊登「男、女不限、經驗不拘」等內容之徵人廣告，被告見報應徵時，被告係因缺錢才來找伊，伊衡量被告條件後認為其只能利用結婚賺取報酬，伊才向其表示是要辦結婚，伊告知被告可安排其去泰國結婚，其不用負擔食宿及機票等費用，可實拿5至6萬元的報酬，被告同意後，伊將被告介紹予共犯詹巧薇、張晉源，共犯張晉源給付佣金1萬元予伊；伊與被告談論泰國結婚事宜時，伊與被告均不知被告之結婚對象為何人，伊亦未見過與被告結婚之泰國女子，伊僅介紹被告予共犯詹巧薇、張晉源等人，伊並未參予後續之泰國結婚、辦理結婚登記及居留申請等事情；被告曾給伊一部機車，當時被告表示要去別的地方，機車留在臺南無人使用，伊修理使用一段期間後，因再度壞掉便未再使用等語（見本院卷第68頁背面至71頁）。而共犯林清水於93、94年間，因仲介臺灣人民陳益昌、林哲銘、廖震南、陳朝榮、王照明等5人擔任人頭老公與泰國女子假結婚，陳益昌等5人均獲取5至7萬元報酬等情，經本院以95年度簡上字第330號判處有期徒刑7月確定，另共犯詹巧薇於92年間，因與共犯張晉源等人共同仲介臺灣人民莊國寶、林世欽、蔡明峰等3人擔任人頭老公與泰國女子假結婚等情，經本院以99年度簡字第1313號判處有期徒刑4月並減為有期徒刑2月確定，又共犯林清水、詹巧薇因本案被告與共犯陳玉婉辦理假結婚致涉嫌共同行使使公務員登載不實文書犯行部分，經臺灣臺南地方法院檢察官認為與前開95年度簡上字第330號、99年度簡字第1313號論罪科刑部分有連續犯之裁判上一罪關係，故均以99年度偵字第17571、17771號、100年度偵字第4564號為不起訴處分確定，有前開判決書及不起訴處分書各1份在卷可按，堪認共犯林清水、詹巧薇、張晉源確曾仲介或安排臺灣男子前往泰國與泰國女子假結婚無訛。又被告與共犯林清水並無任何仇怨糾葛，被告尚提供一部機車予共犯林清水使用，衡諸常情，共犯林清水尚無隨意誣指構陷被告之動機，復衡以其於本院中具結後證述上情歷歷，核與其警詢中證述之情節大致相符，苟非親身經歷，尚均無圖陷被告入罪而自行擔負偽證罪責風險之必要，顯見其確係依憑當時親身見聞所為之證述，參以被告於93年4月26日將戶籍遷移寄放至共犯林清水籍設於臺南縣永康市○○路152號之住所，其戶籍遷入目的係為了便利結婚登記之辦理，被告亦依此戶籍地向臺南縣永康市戶政事務所辦理其與共犯陳玉婉之結婚登記等情，業據被告於本院審理時供承伊戶籍寄放於前開住址不諱，及共犯林清水於本院審理時具結證稱：被告將戶籍寄放於伊住所是為了辦理結婚，要拿證件辦理結婚登記比較方便等語（見本院卷第70頁），並有被告及共犯林清水之個人戶籍資料查詢結果各1份、結婚登記申請書1份在卷可佐，而前開95年度簡上字第330號案件中之人頭老公林哲銘亦由共犯林清水提供前開住所供其設籍，並依該戶籍地辦理結婚登記等情，亦據證人林哲銘於警詢時證述明確（見警二卷第19頁），並有證人林哲銘之結婚登記申請書1紙附卷可佐（見警二卷第46頁），益徵被告確係共犯林清水仲介之人頭老公的其中一人甚明。(三)綜上所述，被告與共犯陳玉婉確係假結婚無訛，是被告前開所辯，要屬卸責之詞，殊無可採。本案事證至臻明確，被告上開犯行堪以認定，應予依法論科。二、按被告行為後，刑法業於民國94年2月2日修正公布，並自95年7月1日施行。按行為後法律有變更者，適用行為時之法律，但行為後之法律有利於行為人者，適用最有利於行為人之法律，修正後刑法第2條第1項定有明文。該規定係規範行為後法律變更所生新舊法律比較適用之準據法，是刑法第2條本身雖經修正，尚無比較新舊法之問題，應一律適用裁判時之刑法第2條規定。次按本次刑法修正之新舊法比較，應就罪刑有關之共犯、未遂犯、想像競合犯、牽連犯、連續犯、結合犯、以及累犯加重、自首減輕暨其他法定加減原因（如身分加減）與加減例等一切情形，綜其全部罪刑之結果而為比較，有最高法院95年5月23日95年度第8次刑庭會議決議可資參照。經查：(一)依增訂之刑法施行法第1條之1：「中華民國94年1月7日刑法修正施行後，刑法分則編所定罰金之貨幣單位為新臺幣。94年1月7日刑法修正時，刑法分則編未修正之條文定有罰金者，自94年1月7日刑法修正施行後，就其所定數額提高為30倍。但72年6月26日至94年1月7日新增或修正之條文，就其所定數額提高為3倍。」，是比較修正後刑法施行法第1條之1第2項與罰金罰鍰提高標準條例第1條之結果，因兩者之罰金最高額度相同而無有利不利之情形，自無刑法第2條第1項之適用，應逕依現行有效且具特別法性質之刑法施行法第1條之1的規定。(二)刑法第33條第5款修正為：「主刑之種類如下：五、罰金：新臺幣1000元以上，以百元計算之。」，是依修正後之法律，刑法第335條第1項之侵占罪所得科處之罰金刑最低為新臺幣1000元，而另依修正前刑法第33條第5款及罰金罰鍰提高標準條例第1條前段規定，罰金最低額則為銀元1元折算為新臺幣3元，故比較新舊法之結果，自以修正前刑法第33條第5款規定較有利於被告。(三)刑法第28條修正前規定為：「2人以上共同實施犯罪之行為者，皆為正犯。」，而修正後規定為：「2人以上共同實行犯罪之行為者，皆為正犯。」，是依修正後之規定係將共同正犯限於直接從事構成犯罪事實之行為者，而排除陰謀共同正犯及預謀共同正犯之類型，故修正後共同正犯之可罰性要件之範圍業已限縮。惟本件被告既係直接從事構成犯罪事實之行為，則比較修正前後規定之結果，並無有利或不利之情形，應逕依修正後規定。(四)刑法第56條連續犯之規定於刑法修正後業經刪除，是新法修正施行後，行為人之數犯罪行為便須分論併罰。是該項刪除雖非犯罪構成要件之變更，但已影響行為人刑罰之法律效果，自屬法律有所變更而有比較新舊法之必要。若依舊法之規定，以一罪論而僅加重其刑至2分之1，但若依新法則須分科併罰，經比較之結果，自以修正前刑法第56條對被告較為有利。(五)綜上，本院綜合被告所涉上揭全部罪行之一切情形而為比較，揆諸前揭最高法院決議及刑法第2條第1項前段規定，被告適用行為時即修正前刑法之相關規定，對其較為有利，自應一體適用修正前刑法規定予以處斷。三、論罪科刑：(一)核被告所為，係犯刑法第216條、第214條之行使使公務員登載不實文書罪。被告與共犯林清水、詹巧薇、張晉源等人就上揭犯行，彼此間有犯意聯絡及行為分擔，為共同正犯。被告使公務員登載不實事項於其所掌公文書之低度行為，為行使之高度行為所吸收，不另論罪。被告於93年5月19日、93年6月14日及94年5月5日先後多次行使使公務員登載不實文書之犯行，時間密接，所犯係構成要件相同之罪名，顯係基於概括犯意反覆為之，為連續犯，應依修正前刑法第56條規定論以一罪，並加重其刑。(二)爰審酌被告為圖私利，竟藉由假結婚之方式便利共犯陳玉婉入境居留，損害戶政機關結婚登記及主管機關對於外國人居留管理之正確性，對社會秩序、善良風俗及警政機關對治安之管理均非無潛在之危害，復參酌被告犯後自始否認犯行，未見悔意，及其智識程度、生活狀況等一切情狀，量處如主文所示之刑，以資懲儆。另被告行為後，關於易科罰金之折算標準，依修正前刑法第41條第1項前段及廢止前罰金罰鍰提高標準條例第2條，係以銀元1百元、2百元或3百元，即新臺幣3百元、6百元或9百元折算1日，而依修正後刑法第41條第1項前段規定，則係以新臺幣1千元、2千元或3千元折算1日，故依刑法第2條第1項前段之規定來比較新舊法之結果，應適用修正前之規定較為有利，爰依修正前刑法第41條第1項前段及廢止前罰金罰鍰提高標準條例第2條諭知易科罰金之折算標準。又被告之犯罪時間係在96年4月24日以前，所犯合於中華民國九十六年罪犯減刑條例之減刑條件，應依該條例第2條第1項第3款、第7條及第9條，減其宣告刑2分之1，並諭知易科罰金之折算標準。四、末按連續數行為而犯同一之罪名，均在新法施行前者，新法施行後，應依新法第2條第1項之規定，適用最有利於行為人之法律。部分之數行為，發生在新法施行前者，新法施行後，該部分適用最有利於行為人之法律。若其中部分之一行為或數行為，發生在新法施行後者，該部分不能論以連續犯（最高法院95年度第8次刑事庭會議決議參照，即該決議五數罪併罰之(四)連續犯部分）。查被告涉嫌於96年5月28日及96年9月3日與共犯陳玉婉共同持前開登載不實之戶籍謄本等資料，先後向臺南縣政府警察局外事課申請核發陳玉婉之延期居留等事宜，有96年5月28日及96年9月3日之外國人居留停留案件申請表各1份附卷可憑，被告此部分涉嫌共同行使使公務員登載不實文書犯行，均在95年7月1日刑法修正廢除第56條連續犯規定以後，亦未據檢察官記載於起訴書犯罪事實內，揆諸前開說明，此部分犯行與前開論罪科刑部份無連續犯之裁判上一罪關係，自非本院得審判之範圍，附此敘明之。據上論斷，應依刑事訴訟法第299條第1項前段，刑法第2條第1項前段、第28條、第216條、第214條，修正前刑法第56條、第41條第1項前段，刑法施行法第1條之1，修正廢止前罰金罰鍰提高標準條例第2條，中華民國96年罪犯減刑條例第2條第1項第3款、第7條、第9條，判決如主文。本案經檢察官莊玲如到庭執行職務。中華民國101年1月20日刑事第四庭審判長法官林逸梅法官鄭文祺法官莊政達以上正本證明與原本無異。如不服本判決應於收受本判後10日內向本院提出上訴書狀，並應敘述具體理由。其未敘述上訴理由者，應於上訴期間屆滿後20日內向本院補提理由書狀（均須按他造當事人之人數附繕本）「切勿逕送上級法院」。書記官吳昕韋中華民國101年2月1日附錄本案論罪科刑法條：中華民國刑法第214條（使公務員登載不實罪）明知為不實之事項，而使公務員登載於職務上所掌之公文書，足以生損害於公眾或他人者，處3年以下有期徒刑、拘役或5百元以下罰金。中華民國刑法第216條（行使偽造變造或登載不實之文書罪）行使第210條至第215條之文書者，依偽造、變造文書或登載不實事項或使登載不實事項之規定處斷。',\n",
       " 'length': 6546,\n",
       " 'gpt': '這宗案件涉及假結婚的問題，其中包括一個臺灣男子與一名泰國女性的假結婚安排，目的是為了讓該泰國女性能夠以假結婚的名義申請來臺居留和工作。案中男子在知情的情況下，被一群人誘導參與這個計畫，且因此獲取報酬。他們利用偽造的結婚證明文件，申請並成功使泰國女性獲得臺灣的居留權。這個過程中，不僅涉及偽造私文書的犯罪行為，同時也嚴重影響了臺灣戶政及外僑居留管理的準確性和嚴肅性。案件最後因行為人的不法行為被告發，並由司法機關偵辦。這顯示出假結婚行為不僅侵害了政府機關的管理效能，也損害了社會的道德法則，必須透過司法途徑嚴肅處理。',\n",
       " 'breeze1': ' 1. 情節摘要：2. 被告陳泰龍涉嫌與泰國籍女子陳玉婉（泰國名字為JARUWANWONGPRATOOM）假結婚，以便陳玉龍取得來臺居留權。然而，陳玉龍否認犯罪，並表示他以為自己在泰國辦理假結婚是為了賺取報酬。3. 被告陳泰龍、陳玉婉共同犯罪，意圖為自己不法所有，並行使偽造私文書。4. 被告陳泰龍、陳玉婉共同偽造戶籍謄本等文件，使相關機關人員陷於錯誤，核發居留證。5. 被告陳泰龍、陳玉婉共同偽造戶籍謄本等文件，使相關機關人員陷於錯誤，核發居留證延期。6. 被告陳泰龍、陳玉婉共同偽造戶籍謄本等文件，使相關機關人員陷於錯誤，核發居留證延期。7. 被告陳泰龍、陳玉婉共同偽造戶籍謄本等文件，使相關機關人員陷於錯誤，核發居留證延期。8. 被告陳泰龍、陳玉婉共同偽造戶籍謄本等文件，使相關機關人員陷於錯誤，核發居留證延期。9. 被告陳泰龍、陳玉婉共同偽造戶籍謄本等文件，使相關機關人員陷於錯誤，核發居留證延期。10. 被告陳泰龍、陳玉婉共同偽造戶籍謄本等文件，使相關機關人員陷於錯誤，核發居留證延期。11. 被告陳泰龍、陳玉婉共同偽造戶籍謄本等文件，使相關機關人員陷於錯誤，核發居留證延期。12. 被告陳泰龍、陳玉婉共同偽造戶籍謄本等文件，使相關機關人員陷於錯誤，核發居留證延期。13. 被告陳泰龍、陳玉婉共同偽造戶籍謄本等文件，使相關機關人員陷於錯誤，核發居留證延期。14. 被告陳泰龍、陳玉婉共同偽造戶籍謄本等文件，使相關機關人員陷於錯誤，核發居留證延期。15. 被告陳泰龍、陳玉婉共同偽造戶籍謄本等文件，使相關機關人員陷於錯誤，核發居留證延期。16. 被告陳泰龍、陳玉婉共同偽造戶籍謄本等文件，使相關機關人員陷於錯誤，核發居留證延期。17. 被告陳泰龍、陳玉婉共同偽造戶籍謄本等文件，使相關機關人員陷於錯誤，核發居留證延期。18. 被告陳泰龍、陳玉婉共同偽造戶籍謄本等文件，使相關機關人員陷於錯誤，核發居留證延期。19. 被告陳泰龍、陳玉婉共同偽造戶籍謄本等文件，使相關機關人員陷於錯誤，核發居留證延期。20. 被告陳泰龍、陳玉婉共同偽造戶籍謄本等文件，使相關機關人員陷於錯誤，核發居留證延期。21. 被告陳泰龍、陳玉婉共同偽造戶籍謄本等文件，使相關機關人員陷於錯誤，核發居留證延期。22. 被告陳泰龍、陳玉婉共同偽造戶籍謄本等文件，使相關機關人員陷於錯誤，核發居留證延期。23. 被告陳泰龍、陳玉婉共同偽造戶籍謄本等文件，使相關機關人員陷於錯誤，核發居留證延期。24. 被告陳泰龍、陳玉婉共同偽造戶籍謄本等文件，使相關機關人員陷於錯誤，核發居留證延期。25. 被告陳泰龍、陳玉婉共同偽造戶籍謄本等文件，使相關機關人員陷於錯誤，核發居留證延期。26. 被告陳泰龍、陳玉婉共同偽造戶籍謄本等文件，使相關機關人員陷於錯誤，核發居留證延期。27. 被告陳泰龍、陳玉婉共同偽造戶籍謄本等文件，使相關機關人員陷於錯誤，核發居留證延期。28. 被告陳泰龍、陳玉婉共同偽造戶籍謄本等文件，使相關機關人員陷於錯誤，核發居留證延期。29. 被告陳泰龍、陳玉婉共同偽造戶籍謄本等文件，使相關機關人員陷於錯誤，核發居留證延期。30. 被告陳泰龍、陳玉婉共同偽造戶籍謄本等文件，使',\n",
       " 'breeze2': ' 被告陳泰龍與泰國籍女子陳玉婉（JARUWANWONGPRATOOM）共同辦理假結婚，以取得陳玉婉來臺居留工作。被告等人明知無結婚真意，仍辦理假結婚並持偽造的戶籍謄本等資料，向臺南縣政府警察局外事課申請核發陳玉婉的外僑居留證及延期居留。被告與共犯林清水、詹巧薇、張晉源等人共同行使使公務員登載不實公文書，導致主管機關對外僑居留管理的正確性受損。被告於93年5月19日、93年6月14日及94年5月5日多次行使使公務員登載不實文書之犯行，時間密接，所犯係構成要件相同之罪名，為連續犯，應依修正前刑法規定論以一罪。'}"
      ]
     },
     "execution_count": 7,
     "metadata": {},
     "output_type": "execute_result"
    }
   ],
   "source": [
    "with open('experiment1/scenario_merge.json', 'r', encoding='utf-8') as f:\n",
    "    merge_data = json.load(f)\n",
    "\n",
    "merge_data[0]"
   ]
  },
  {
   "cell_type": "code",
   "execution_count": 8,
   "metadata": {},
   "outputs": [],
   "source": [
    "# GPT vs Breeze1\n",
    "scores_list_1 = []\n",
    "\n",
    "for data in merge_data:\n",
    "    answer = data['gpt']\n",
    "    ref1 = data['breeze1']\n",
    "\n",
    "    answer = ' '.join(answer)\n",
    "    ref1 = ' '.join(ref1)\n",
    "    # print(f'answer: {answer}\\nref: {ref1}')\n",
    "\n",
    "    scores = rouge.get_scores(answer, ref1)\n",
    "    rouge_1_r = round(scores[0]['rouge-1']['r'], 3)\n",
    "    rouge_2_r = round(scores[0]['rouge-2']['r'], 3)\n",
    "    rouge_l_r = round(scores[0]['rouge-l']['r'], 3)\n",
    "\n",
    "    rouge_1_p = round(scores[0]['rouge-1']['p'], 3)\n",
    "    rouge_2_p = round(scores[0]['rouge-2']['p'], 3)\n",
    "    rouge_l_p = round(scores[0]['rouge-l']['p'], 3)\n",
    "\n",
    "    scores_list_1.append((rouge_1_r, rouge_2_r, rouge_l_r, rouge_1_p, rouge_2_p, rouge_l_p))"
   ]
  },
  {
   "cell_type": "code",
   "execution_count": 9,
   "metadata": {},
   "outputs": [],
   "source": [
    "# GPT vs Breeze2\n",
    "scores_list_2 = []\n",
    "\n",
    "for data in merge_data:\n",
    "    answer = data['gpt']\n",
    "    ref2 = data['breeze2']\n",
    "\n",
    "    answer = ' '.join(answer)\n",
    "    ref2 = ' '.join(ref2)\n",
    "    # print(f'answer: {answer}\\nref: {ref2}')\n",
    "\n",
    "    scores = rouge.get_scores(answer, ref2)\n",
    "    rouge_1_r = round(scores[0]['rouge-1']['r'], 3)\n",
    "    rouge_2_r = round(scores[0]['rouge-2']['r'], 3)\n",
    "    rouge_l_r = round(scores[0]['rouge-l']['r'], 3)\n",
    "\n",
    "    rouge_1_p = round(scores[0]['rouge-1']['p'], 3)\n",
    "    rouge_2_p = round(scores[0]['rouge-2']['p'], 3)\n",
    "    rouge_l_p = round(scores[0]['rouge-l']['p'], 3)\n",
    "\n",
    "    scores_list_2.append((rouge_1_r, rouge_2_r, rouge_l_r, rouge_1_p, rouge_2_p, rouge_l_p))"
   ]
  },
  {
   "cell_type": "code",
   "execution_count": 10,
   "metadata": {},
   "outputs": [],
   "source": [
    "len_list = []\n",
    "for data in merge_data:\n",
    "    len_list.append(data['length'])"
   ]
  },
  {
   "cell_type": "code",
   "execution_count": 11,
   "metadata": {},
   "outputs": [
    {
     "name": "stdout",
     "output_type": "stream",
     "text": [
      "============================================== GPT vs Breeze 1 ==============================================\n",
      "============================== Recall ======================================== Precision ====================\n",
      "idx\tlength\t\tR-1\t\tR-2\t\tR-L\t|\tR-1\t\tR-2\t\tR-L\n",
      "0\t6546\t\t0.461\t\t0.132\t\t0.045\t|\t0.379\t\t0.109\t\t0.226\n",
      "1\t3385\t\t0.637\t\t0.232\t\t0.294\t|\t0.439\t\t0.142\t\t0.209\n",
      "2\t1331\t\t0.495\t\t0.226\t\t0.296\t|\t0.413\t\t0.179\t\t0.232\n",
      "3\t10172\t\t0.545\t\t0.17\t\t0.044\t|\t0.142\t\t0.028\t\t0.119\n",
      "4\t9266\t\t0.365\t\t0.098\t\t0.047\t|\t0.2\t\t0.05\t\t0.251\n",
      "5\t13669\t\t0.333\t\t0.0\t\t0.005\t|\t0.015\t\t0.0\t\t0.019\n",
      "6\t328\t\t0.738\t\t0.358\t\t0.617\t|\t0.274\t\t0.099\t\t0.169\n",
      "7\t7083\t\t0.175\t\t0.0\t\t0.009\t|\t0.059\t\t0.0\t\t0.041\n",
      "8\t8806\t\t0.412\t\t0.097\t\t0.066\t|\t0.197\t\t0.039\t\t0.189\n",
      "9\t12726\t\t0.214\t\t0.042\t\t0.014\t|\t0.023\t\t0.005\t\t0.059\n",
      "============================================== GPT vs Breeze 2 ==============================================\n",
      "============================== Recall ======================================== Precision ====================\n",
      "idx\tlength\t\tR-1\t\tR-2\t\tR-L\t|\tR-1\t\tR-2\t\tR-L\n",
      "0\t6546\t\t0.403\t\t0.097\t\t0.201\t|\t0.443\t\t0.095\t\t0.198\n",
      "1\t3385\t\t0.529\t\t0.173\t\t0.234\t|\t0.5\t\t0.168\t\t0.296\n",
      "2\t1331\t\t0.495\t\t0.226\t\t0.296\t|\t0.413\t\t0.179\t\t0.232\n",
      "3\t10172\t\t0.484\t\t0.229\t\t0.333\t|\t0.266\t\t0.084\t\t0.109\n",
      "4\t9266\t\t0.456\t\t0.174\t\t0.2\t|\t0.452\t\t0.134\t\t0.186\n",
      "5\t13669\t\t0.45\t\t0.195\t\t0.25\t|\t0.508\t\t0.2\t\t0.254\n",
      "6\t328\t\t0.738\t\t0.358\t\t0.617\t|\t0.274\t\t0.099\t\t0.169\n",
      "7\t7083\t\t0.357\t\t0.069\t\t0.125\t|\t0.424\t\t0.084\t\t0.189\n",
      "8\t8806\t\t0.442\t\t0.15\t\t0.2\t|\t0.479\t\t0.161\t\t0.246\n",
      "9\t12726\t\t0.3\t\t0.081\t\t0.081\t|\t0.466\t\t0.15\t\t0.248\n"
     ]
    }
   ],
   "source": [
    "print(f'{\"=\"*46} GPT vs Breeze 1 {\"=\"*46}')\n",
    "print(f'{\"=\"*30} Recall {\"=\"*40} Precision {\"=\"*20}')\n",
    "print(f'idx\\tlength\\t\\tR-1\\t\\tR-2\\t\\tR-L\\t|\\tR-1\\t\\tR-2\\t\\tR-L')\n",
    "\n",
    "for idx, scores in enumerate(scores_list_1):\n",
    "    rouge_1_r, rouge_2_r, rouge_l_r, rouge_1_p, rouge_2_p, rouge_l_p = scores\n",
    "    print(f'{idx}\\t{len_list[idx]}\\t\\t{rouge_1_r}\\t\\t{rouge_2_r}\\t\\t{rouge_l_r}\\t|\\t{rouge_1_p}\\t\\t{rouge_2_p}\\t\\t{rouge_l_p}')\n",
    "\n",
    "print(f'{\"=\"*46} GPT vs Breeze 2 {\"=\"*46}')\n",
    "print(f'{\"=\"*30} Recall {\"=\"*40} Precision {\"=\"*20}')\n",
    "print(f'idx\\tlength\\t\\tR-1\\t\\tR-2\\t\\tR-L\\t|\\tR-1\\t\\tR-2\\t\\tR-L')\n",
    "\n",
    "for idx, scores in enumerate(scores_list_2):\n",
    "    rouge_1_r, rouge_2_r, rouge_l_r, rouge_1_p, rouge_2_p, rouge_l_p = scores\n",
    "    print(f'{idx}\\t{len_list[idx]}\\t\\t{rouge_1_r}\\t\\t{rouge_2_r}\\t\\t{rouge_l_r}\\t|\\t{rouge_1_p}\\t\\t{rouge_2_p}\\t\\t{rouge_l_p}')"
   ]
  },
  {
   "cell_type": "markdown",
   "metadata": {},
   "source": [
    "### 合併資料"
   ]
  },
  {
   "cell_type": "code",
   "execution_count": 13,
   "metadata": {},
   "outputs": [
    {
     "data": {
      "text/plain": [
       "' 判決書摘要：\\n被告陳泰龍明知與泰國籍女子陳玉婉（泰國名字為JARUWANWONGPRATOOM）間並無結婚之真意，仍與林清水、詹巧薇、張晉源等人共同基於行使使公務員登載不實公文書之概括犯意聯絡，辦理假結婚。被告依林清水於報紙上刊登之徵人廣告應徵，由林清水告知泰國女子欲以假結婚之方式申請來臺居留工作，其若擔任假結婚之人頭老公，除不用負擔前往泰國之食宿、機票費用外，尚可獲取5、6萬元之報酬。被告與林清水、詹巧薇、張晉源等人共同辦理假結婚，使公務員陷於錯誤，登載不實事項於戶籍登記資料內，並核發戶籍謄本。被告與陳玉婉辦理假結婚後，陳玉婉來臺後，被告與陳玉婉共同持登載不實之戶籍謄本等資料，先後向臺南縣政府警察局外事課申請核發陳玉婉之外僑居留證及申請居留證延期，使主管機關對外僑居留管理之正確性受損。 事實摘要：\\n\\n蔡明峰、林清水、詹巧薇和張晉源涉嫌擔任人頭老公與泰國女子假結婚。蔡明峰因本案被告與共犯陳玉婉辦理假結婚，涉嫌共同行使使公務員登載不實文書，經臺灣臺南地方法院檢察官認為與前開95年度簡上字第330號、99年度簡字第1313號論罪科刑部分有連續犯之裁判上一罪關係，故均以99年度偵字第17571、17771號、100年度偵字第4564號為不起訴處分確定。被告與共犯林清水並無仇怨，被告提供一部機車予共犯林清水使用。被告與共犯陳玉婉確係假結婚，被告的辯解為卸責之詞。被告適用行為時即修正前刑法之相關規定，對其較為有利，自應一體適用修正前刑法規定予以處斷。被告於93年5月19日、93年6月14日及94年5月5日先後多次行使使公務員登載不實文書之犯行，時間密接，所犯係構成要件相同之罪名，顯係基於概括犯意反覆為之，為連續犯，應依修正前刑法第56條規定論以一罪。 事實摘要：被告涉嫌於96年5月28日及96年9月3日與共犯陳玉婉共同持登載不實之戶籍謄本等資料，先後向臺南縣政府警察局外事課申請核發陳玉婉之延期居留等事宜。被告涉嫌共同行使使公務員登載不實文書犯行，均在95年7月1日刑法修正廢除第56條連續犯規定以後，未記載於起訴書犯罪事實內。由於此部分犯行在刑法修正後，未構成連續犯，故非本院得審判之範圍。'"
      ]
     },
     "execution_count": 13,
     "metadata": {},
     "output_type": "execute_result"
    }
   ],
   "source": [
    "breeze_summary_scenario[0]['judgement']\n",
    "breeze_summary_scenario[0]['fact_summary']"
   ]
  },
  {
   "cell_type": "code",
   "execution_count": 27,
   "metadata": {},
   "outputs": [
    {
     "data": {
      "text/plain": [
       "10"
      ]
     },
     "execution_count": 27,
     "metadata": {},
     "output_type": "execute_result"
    }
   ],
   "source": [
    "test_summary = breeze_summary_scenario[:10]\n",
    "len(test_summary)"
   ]
  },
  {
   "cell_type": "code",
   "execution_count": 31,
   "metadata": {},
   "outputs": [
    {
     "name": "stdout",
     "output_type": "stream",
     "text": [
      "Scenario generating...\n",
      "Scenario complete!\n",
      "====================================================================================================\n",
      "Scenario generating...\n",
      "Scenario complete!\n",
      "====================================================================================================\n",
      "Scenario generating...\n",
      "Scenario complete!\n",
      "====================================================================================================\n",
      "Scenario generating...\n",
      "Scenario complete!\n",
      "====================================================================================================\n",
      "Scenario generating...\n",
      "Scenario complete!\n",
      "====================================================================================================\n",
      "Scenario generating...\n",
      "Scenario complete!\n",
      "====================================================================================================\n",
      "Scenario generating...\n",
      "Scenario complete!\n",
      "====================================================================================================\n",
      "Scenario generating...\n",
      "Scenario complete!\n",
      "====================================================================================================\n",
      "Scenario generating...\n",
      "Scenario complete!\n",
      "====================================================================================================\n",
      "Scenario generating...\n",
      "Scenario complete!\n",
      "====================================================================================================\n"
     ]
    }
   ],
   "source": [
    "processed_data = []\n",
    "\n",
    "for idx, data in enumerate(test_summary):\n",
    "    gpt = gpt_scenario[idx][\"summary\"]\n",
    "    judgement = data['fact_summary']\n",
    "    print(f'Scenario generating...')\n",
    "    scenario = get_gpt(judgement)\n",
    "    print(f'Scenario complete!')\n",
    "    print(f'='*100)\n",
    "\n",
    "    temp = {\n",
    "        \"judgement\": judgement,\n",
    "        \"answer\": gpt,\n",
    "        \"scenario\": scenario\n",
    "    }\n",
    "\n",
    "    processed_data.append(temp)\n",
    "\n",
    "with open(\"experiment1/summary_experiment.json\", \"w\", encoding=\"utf-8\") as f:\n",
    "    json.dump(processed_data, f, ensure_ascii=False, indent=4)"
   ]
  },
  {
   "cell_type": "markdown",
   "metadata": {},
   "source": [
    "### 評估摘要好不好\n",
    "* (答)GPT摘要：origin fact -> (GPT) -> scenario\n",
    "* Breeze壓縮+摘要：origin fact -> (Breeze) -> summary fact -> (GPT) -> scenario"
   ]
  },
  {
   "cell_type": "code",
   "execution_count": 12,
   "metadata": {},
   "outputs": [],
   "source": [
    "with open('experiment1/summary_experiment.json', 'r', encoding='utf-8') as f:\n",
    "    summary_data = json.load(f)"
   ]
  },
  {
   "cell_type": "code",
   "execution_count": 16,
   "metadata": {},
   "outputs": [],
   "source": [
    "# scenario(GPT) vs summary(breeze+GPT)\n",
    "scores_list = []\n",
    "\n",
    "for data in summary_data:\n",
    "    answer = data['answer']\n",
    "    ref1 = data['scenario']\n",
    "    ref1 = ref1.replace('\\n', '').replace('\\t', '')\n",
    "\n",
    "    answer = ' '.join(answer)\n",
    "    ref1 = ' '.join(ref1)\n",
    "    # print(f'answer: {answer}\\nref: {ref1}')\n",
    "\n",
    "    scores = rouge.get_scores(answer, ref1)\n",
    "    rouge_1_r = round(scores[0]['rouge-1']['r'], 3)\n",
    "    rouge_2_r = round(scores[0]['rouge-2']['r'], 3)\n",
    "    rouge_l_r = round(scores[0]['rouge-l']['r'], 3)\n",
    "\n",
    "    rouge_1_p = round(scores[0]['rouge-1']['p'], 3)\n",
    "    rouge_2_p = round(scores[0]['rouge-2']['p'], 3)\n",
    "    rouge_l_p = round(scores[0]['rouge-l']['p'], 3)\n",
    "\n",
    "    scores_list.append((rouge_1_r, rouge_2_r, rouge_l_r, rouge_1_p, rouge_2_p, rouge_l_p))"
   ]
  },
  {
   "cell_type": "code",
   "execution_count": 17,
   "metadata": {},
   "outputs": [
    {
     "name": "stdout",
     "output_type": "stream",
     "text": [
      "============================================== GPT vs Breeze+GPT ==============================================\n",
      "============================== Recall ======================================== Precision ====================\n",
      "idx\tlength\t\tR-1\t\tR-2\t\tR-L\t|\tR-1\t\tR-2\t\tR-L\n",
      "0\t6546\t\t0.553\t\t0.228\t\t0.299\t|\t0.557\t\t0.222\t\t0.292\n",
      "1\t3385\t\t0.584\t\t0.227\t\t0.32\t|\t0.549\t\t0.212\t\t0.309\n",
      "2\t1331\t\t0.294\t\t0.063\t\t0.184\t|\t0.119\t\t0.021\t\t0.059\n",
      "3\t10172\t\t0.606\t\t0.265\t\t0.271\t|\t0.556\t\t0.196\t\t0.173\n",
      "4\t9266\t\t0.481\t\t0.229\t\t0.298\t|\t0.548\t\t0.233\t\t0.303\n",
      "5\t13669\t\t0.481\t\t0.18\t\t0.202\t|\t0.591\t\t0.229\t\t0.269\n",
      "6\t328\t\t0.37\t\t0.045\t\t0.237\t|\t0.177\t\t0.016\t\t0.082\n",
      "7\t7083\t\t0.471\t\t0.161\t\t0.216\t|\t0.542\t\t0.184\t\t0.257\n",
      "8\t8806\t\t0.53\t\t0.183\t\t0.236\t|\t0.563\t\t0.183\t\t0.231\n",
      "9\t12726\t\t0.517\t\t0.207\t\t0.194\t|\t0.702\t\t0.291\t\t0.286\n"
     ]
    }
   ],
   "source": [
    "print(f'{\"=\"*46} GPT vs Breeze+GPT {\"=\"*46}')\n",
    "print(f'{\"=\"*30} Recall {\"=\"*40} Precision {\"=\"*20}')\n",
    "print(f'idx\\tlength\\t\\tR-1\\t\\tR-2\\t\\tR-L\\t|\\tR-1\\t\\tR-2\\t\\tR-L')\n",
    "\n",
    "for idx, scores in enumerate(scores_list):\n",
    "    rouge_1_r, rouge_2_r, rouge_l_r, rouge_1_p, rouge_2_p, rouge_l_p = scores\n",
    "    print(f'{idx}\\t{len_list[idx]}\\t\\t{rouge_1_r}\\t\\t{rouge_2_r}\\t\\t{rouge_l_r}\\t|\\t{rouge_1_p}\\t\\t{rouge_2_p}\\t\\t{rouge_l_p}')"
   ]
  },
  {
   "cell_type": "markdown",
   "metadata": {},
   "source": [
    "## 實驗二：看摘要效果\n",
    "* GPT摘要：origin fact -> (GPT) -> scenario\n",
    "* Breeze壓縮+摘要：origin fact -> (Breeze) -> summary fact -> (Breeze) -> scenario\n",
    "* Breeze壓縮+GPT摘要：origin fact -> (Breeze) -> summary fact -> (GPT) -> scenario"
   ]
  }
 ],
 "metadata": {
  "kernelspec": {
   "display_name": "Python 3",
   "language": "python",
   "name": "python3"
  },
  "language_info": {
   "codemirror_mode": {
    "name": "ipython",
    "version": 3
   },
   "file_extension": ".py",
   "mimetype": "text/x-python",
   "name": "python",
   "nbconvert_exporter": "python",
   "pygments_lexer": "ipython3",
   "version": "3.10.12"
  }
 },
 "nbformat": 4,
 "nbformat_minor": 2
}
